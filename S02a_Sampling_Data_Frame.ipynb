{
 "cells": [
  {
   "cell_type": "markdown",
   "id": "f1eab0e5-9c10-4db8-8c41-de72f44cd103",
   "metadata": {
    "editable": true,
    "slideshow": {
     "slide_type": ""
    },
    "tags": []
   },
   "source": [
    "# The Central Limit Theorem and Estimation of the Mean"
   ]
  },
  {
   "cell_type": "markdown",
   "id": "71c3c9d4-ec8b-43f6-a6a9-7d575d2e147c",
   "metadata": {},
   "source": [
    "**Definition.** For a fixed population and fixed sample size, the collection of all possible values of the mean over all possible samples of that size, forms what we call the **sampling distribution**.\n",
    "\n",
    "Two vital theorems govern how these sampling distributions work:\n",
    "\n",
    "1. **Central Limit Theorem.** The means of a sampling distribution are approximately normal (bell-shaped) and centered upon $\\mu_0$, the population average.\n",
    "2. **Law of Large Numbers.** As n increases, our estimates based upon the sample means increase in accuracy.\n",
    "\n",
    "Thus, the CLT guarantees a bell-shaped distribution centered upon the population average, and the Law of Large Numbers works like a lever that allows us to control the accuracy. Increased sample sizes lead to increased accuracy."
   ]
  },
  {
   "cell_type": "markdown",
   "id": "c34996fb-5802-483e-8a5e-07854e12f879",
   "metadata": {},
   "source": [
    "## Data Sets\n",
    "\n",
    "We will need some data to work with:"
   ]
  },
  {
   "cell_type": "code",
   "execution_count": 1,
   "id": "640d8bd6-b915-4e92-b148-ed5ce5abfe20",
   "metadata": {
    "editable": true,
    "slideshow": {
     "slide_type": ""
    },
    "tags": []
   },
   "outputs": [],
   "source": [
    "united <- read.csv('http://faculty.ung.edu/rsinn/data/united.csv')\n",
    "airports <- read.csv('http://faculty.ung.edu/rsinn/data/airports.csv')\n",
    "births <-  read.csv('http://faculty.ung.edu/rsinn/data/baby.csv')"
   ]
  },
  {
   "cell_type": "markdown",
   "id": "908e1341-0217-4a65-8401-50f81b9e74ba",
   "metadata": {
    "editable": true,
    "slideshow": {
     "slide_type": ""
    },
    "tags": []
   },
   "source": [
    "We also need for the function **sample.data.frame()** to be active in this notebook, so we copy-paste it from our [online course notes](https://straightdraw.github.io/probstat/S1c.html)."
   ]
  },
  {
   "cell_type": "code",
   "execution_count": 4,
   "id": "f60f2be8-b724-4b02-93d8-f148493f8d1a",
   "metadata": {
    "editable": true,
    "slideshow": {
     "slide_type": ""
    },
    "tags": [
     "hide-input"
    ]
   },
   "outputs": [],
   "source": [
    "sample.data.frame <- function(x, size, replace = FALSE, prob = NULL, groups=NULL, \n",
    "                              orig.ids = TRUE, fixed = names(x), shuffled = c(),\n",
    "                              invisibly.return = NULL, ...) {\n",
    "  if( missing(size) ) size = nrow(x)\n",
    "  if( is.null(invisibly.return) ) invisibly.return = size>50 \n",
    "  shuffled <- intersect(shuffled, names(x))\n",
    "  fixed <- setdiff(intersect(fixed, names(x)), shuffled)\n",
    "  n <- nrow(x)\n",
    "  ids <- 1:n\n",
    "  groups <- eval( substitute(groups), x )\n",
    "  newids <- sample(n, size, replace=replace, prob=prob, ...)\n",
    "  origids <- ids[newids]\n",
    "  result <- x[newids, , drop=FALSE]\n",
    "  \n",
    "  idsString <- as.character(origids)\n",
    "  \n",
    "  for (column in shuffled) {\n",
    "    cids <- sample(newids, groups=groups[newids])\n",
    "    result[,column] <- x[cids,column]\n",
    "    idsString <- paste(idsString, \".\", cids, sep=\"\")\n",
    "  }\n",
    "  \n",
    "  result <-  result[ , union(fixed,shuffled), drop=FALSE]\n",
    "  if (orig.ids) result$orig.id <- idsString\n",
    "  \n",
    "  \n",
    "  if (invisibly.return) { return(invisible(result)) } else {return(result)}\n",
    "}\n"
   ]
  },
  {
   "cell_type": "markdown",
   "id": "da5fc0d3-7c99-42af-92b1-263a8b9599a0",
   "metadata": {
    "editable": true,
    "slideshow": {
     "slide_type": ""
    },
    "tags": []
   },
   "source": [
    "## Example: Estimating Airport Elevation\n",
    "\n",
    "Let's work with an example from the **airports** data set: **elevation_ft**. Let's generate many, many samples of the same size. We'll find the averages from each sample and use them to estimate the average level of narcissism for students at UNG."
   ]
  },
  {
   "cell_type": "markdown",
   "id": "7aa0ed0f-7484-4165-b638-772905aa43ba",
   "metadata": {
    "editable": true,
    "slideshow": {
     "slide_type": ""
    },
    "tags": []
   },
   "source": [
    "### First Step: Generating Samples of Size $n=10$\n",
    "\n",
    "Let's beging with the R commands necessary to sample the **Narc** column in the *personality* data frame. We will use the\n",
    "\n",
    "<p style=\"color:red;\">sample.data.frame()</p>\n",
    "\n",
    "function to draw a sample.\n",
    "\n",
    "**Run the cell below to see how this works, and notice:**\n",
    "\n",
    "- The function inputs:\n",
    "1. Name of the data frame to sample from.\n",
    "2. Sample size to be drawn.\n",
    "- The output: 10 rows from the data frame with all columns present."
   ]
  },
  {
   "cell_type": "code",
   "execution_count": 5,
   "id": "f453dc76-fe20-4936-ab46-6f9e8d9a6bad",
   "metadata": {
    "editable": true,
    "slideshow": {
     "slide_type": ""
    },
    "tags": []
   },
   "outputs": [
    {
     "data": {
      "text/html": [
       "<table>\n",
       "<thead><tr><th></th><th scope=col>name</th><th scope=col>code</th><th scope=col>type</th><th scope=col>elevation_ft</th><th scope=col>continent</th><th scope=col>country</th><th scope=col>region</th><th scope=col>city</th><th scope=col>lat</th><th scope=col>long</th></tr></thead>\n",
       "<tbody>\n",
       "\t<tr><th scope=row>10641</th><td>Whitfield Regional Hospital Heliport</td><td>AL14                                </td><td>heliport                            </td><td> 156                                </td><td>NA                                  </td><td>US                                  </td><td>US-AL                               </td><td>Demopolis                           </td><td> 32.50571                           </td><td> -87.83640                          </td></tr>\n",
       "\t<tr><th scope=row>2538</th><td>Flint Ridge Airport                 </td><td>22NC                                </td><td>small_airport                       </td><td> 650                                </td><td>NA                                  </td><td>US                                  </td><td>US-NC                               </td><td>Siler City                          </td><td> 35.82110                           </td><td> -79.46830                          </td></tr>\n",
       "\t<tr><th scope=row>37191</th><td>Schlip Kalkrand1 Landing Site       </td><td>                                    </td><td>small_airport                       </td><td>4606                                </td><td>AF                                  </td><td>NA                                  </td><td>NA-HA                               </td><td>Schlip                              </td><td>-24.00190                           </td><td>  16.89420                          </td></tr>\n",
       "\t<tr><th scope=row>15584</th><td>Kelvington Airport                  </td><td>CKV2                                </td><td>small_airport                       </td><td>1860                                </td><td>NA                                  </td><td>CA                                  </td><td>CA-SK                               </td><td>Kelvington                          </td><td> 52.13330                           </td><td>-103.53500                          </td></tr>\n",
       "\t<tr><th scope=row>4982</th><td>Mc David Ranch Airport              </td><td>44TS                                </td><td>small_airport                       </td><td>1407                                </td><td>NA                                  </td><td>US                                  </td><td>US-TX                               </td><td>Llano                               </td><td> 30.57770                           </td><td> -98.83370                          </td></tr>\n",
       "\t<tr><th scope=row>46488</th><td>San Juan Estancias Airport          </td><td>                                    </td><td>small_airport                       </td><td> 820                                </td><td>SA                                  </td><td>BO                                  </td><td>BO-B                                </td><td>Cercado                             </td><td>-14.16667                           </td><td> -64.76667                          </td></tr>\n",
       "\t<tr><th scope=row>55265</th><td>Benambra Airport                    </td><td>                                    </td><td>small_airport                       </td><td>2200                                </td><td>OC                                  </td><td>AU                                  </td><td>AU-VIC                              </td><td>                                    </td><td>-36.96687                           </td><td> 147.69914                          </td></tr>\n",
       "\t<tr><th scope=row>56169</th><td>Narrandera Airport                  </td><td>                                    </td><td>medium_airport                      </td><td> 474                                </td><td>OC                                  </td><td>AU                                  </td><td>AU-NSW                              </td><td>Narrandera                          </td><td>-34.70220                           </td><td> 146.51199                          </td></tr>\n",
       "\t<tr><th scope=row>3633</th><td>El Caballero Airport                </td><td>2XA1                                </td><td>small_airport                       </td><td> 317                                </td><td>NA                                  </td><td>US                                  </td><td>US-TX                               </td><td>Cotulla                             </td><td> 28.13240                           </td><td> -98.93220                          </td></tr>\n",
       "\t<tr><th scope=row>7833</th><td>Ibm Distribution Center Heliport    </td><td>72PN                                </td><td>heliport                            </td><td> 454                                </td><td>NA                                  </td><td>US                                  </td><td>US-PA                               </td><td>New Kingston                        </td><td> 40.22790                           </td><td> -77.08860                          </td></tr>\n",
       "</tbody>\n",
       "</table>\n"
      ],
      "text/latex": [
       "\\begin{tabular}{r|llllllllll}\n",
       "  & name & code & type & elevation\\_ft & continent & country & region & city & lat & long\\\\\n",
       "\\hline\n",
       "\t10641 & Whitfield Regional Hospital Heliport & AL14                                 & heliport                             &  156                                 & NA                                   & US                                   & US-AL                                & Demopolis                            &  32.50571                            &  -87.83640                          \\\\\n",
       "\t2538 & Flint Ridge Airport                  & 22NC                                 & small\\_airport                      &  650                                 & NA                                   & US                                   & US-NC                                & Siler City                           &  35.82110                            &  -79.46830                          \\\\\n",
       "\t37191 & Schlip Kalkrand1 Landing Site        &                                      & small\\_airport                      & 4606                                 & AF                                   & NA                                   & NA-HA                                & Schlip                               & -24.00190                            &   16.89420                          \\\\\n",
       "\t15584 & Kelvington Airport                   & CKV2                                 & small\\_airport                      & 1860                                 & NA                                   & CA                                   & CA-SK                                & Kelvington                           &  52.13330                            & -103.53500                          \\\\\n",
       "\t4982 & Mc David Ranch Airport               & 44TS                                 & small\\_airport                      & 1407                                 & NA                                   & US                                   & US-TX                                & Llano                                &  30.57770                            &  -98.83370                          \\\\\n",
       "\t46488 & San Juan Estancias Airport           &                                      & small\\_airport                      &  820                                 & SA                                   & BO                                   & BO-B                                 & Cercado                              & -14.16667                            &  -64.76667                          \\\\\n",
       "\t55265 & Benambra Airport                     &                                      & small\\_airport                      & 2200                                 & OC                                   & AU                                   & AU-VIC                               &                                      & -36.96687                            &  147.69914                          \\\\\n",
       "\t56169 & Narrandera Airport                   &                                      & medium\\_airport                     &  474                                 & OC                                   & AU                                   & AU-NSW                               & Narrandera                           & -34.70220                            &  146.51199                          \\\\\n",
       "\t3633 & El Caballero Airport                 & 2XA1                                 & small\\_airport                      &  317                                 & NA                                   & US                                   & US-TX                                & Cotulla                              &  28.13240                            &  -98.93220                          \\\\\n",
       "\t7833 & Ibm Distribution Center Heliport     & 72PN                                 & heliport                             &  454                                 & NA                                   & US                                   & US-PA                                & New Kingston                         &  40.22790                            &  -77.08860                          \\\\\n",
       "\\end{tabular}\n"
      ],
      "text/markdown": [
       "\n",
       "| <!--/--> | name | code | type | elevation_ft | continent | country | region | city | lat | long |\n",
       "|---|---|---|---|---|---|---|---|---|---|---|\n",
       "| 10641 | Whitfield Regional Hospital Heliport | AL14                                 | heliport                             |  156                                 | NA                                   | US                                   | US-AL                                | Demopolis                            |  32.50571                            |  -87.83640                           |\n",
       "| 2538 | Flint Ridge Airport                  | 22NC                                 | small_airport                        |  650                                 | NA                                   | US                                   | US-NC                                | Siler City                           |  35.82110                            |  -79.46830                           |\n",
       "| 37191 | Schlip Kalkrand1 Landing Site        |                                      | small_airport                        | 4606                                 | AF                                   | NA                                   | NA-HA                                | Schlip                               | -24.00190                            |   16.89420                           |\n",
       "| 15584 | Kelvington Airport                   | CKV2                                 | small_airport                        | 1860                                 | NA                                   | CA                                   | CA-SK                                | Kelvington                           |  52.13330                            | -103.53500                           |\n",
       "| 4982 | Mc David Ranch Airport               | 44TS                                 | small_airport                        | 1407                                 | NA                                   | US                                   | US-TX                                | Llano                                |  30.57770                            |  -98.83370                           |\n",
       "| 46488 | San Juan Estancias Airport           |                                      | small_airport                        |  820                                 | SA                                   | BO                                   | BO-B                                 | Cercado                              | -14.16667                            |  -64.76667                           |\n",
       "| 55265 | Benambra Airport                     |                                      | small_airport                        | 2200                                 | OC                                   | AU                                   | AU-VIC                               |                                      | -36.96687                            |  147.69914                           |\n",
       "| 56169 | Narrandera Airport                   |                                      | medium_airport                       |  474                                 | OC                                   | AU                                   | AU-NSW                               | Narrandera                           | -34.70220                            |  146.51199                           |\n",
       "| 3633 | El Caballero Airport                 | 2XA1                                 | small_airport                        |  317                                 | NA                                   | US                                   | US-TX                                | Cotulla                              |  28.13240                            |  -98.93220                           |\n",
       "| 7833 | Ibm Distribution Center Heliport     | 72PN                                 | heliport                             |  454                                 | NA                                   | US                                   | US-PA                                | New Kingston                         |  40.22790                            |  -77.08860                           |\n",
       "\n"
      ],
      "text/plain": [
       "      name                                 code type           elevation_ft\n",
       "10641 Whitfield Regional Hospital Heliport AL14 heliport        156        \n",
       "2538  Flint Ridge Airport                  22NC small_airport   650        \n",
       "37191 Schlip Kalkrand1 Landing Site             small_airport  4606        \n",
       "15584 Kelvington Airport                   CKV2 small_airport  1860        \n",
       "4982  Mc David Ranch Airport               44TS small_airport  1407        \n",
       "46488 San Juan Estancias Airport                small_airport   820        \n",
       "55265 Benambra Airport                          small_airport  2200        \n",
       "56169 Narrandera Airport                        medium_airport  474        \n",
       "3633  El Caballero Airport                 2XA1 small_airport   317        \n",
       "7833  Ibm Distribution Center Heliport     72PN heliport        454        \n",
       "      continent country region city         lat       long      \n",
       "10641 NA        US      US-AL  Demopolis     32.50571  -87.83640\n",
       "2538  NA        US      US-NC  Siler City    35.82110  -79.46830\n",
       "37191 AF        NA      NA-HA  Schlip       -24.00190   16.89420\n",
       "15584 NA        CA      CA-SK  Kelvington    52.13330 -103.53500\n",
       "4982  NA        US      US-TX  Llano         30.57770  -98.83370\n",
       "46488 SA        BO      BO-B   Cercado      -14.16667  -64.76667\n",
       "55265 OC        AU      AU-VIC              -36.96687  147.69914\n",
       "56169 OC        AU      AU-NSW Narrandera   -34.70220  146.51199\n",
       "3633  NA        US      US-TX  Cotulla       28.13240  -98.93220\n",
       "7833  NA        US      US-PA  New Kingston  40.22790  -77.08860"
      ]
     },
     "metadata": {},
     "output_type": "display_data"
    }
   ],
   "source": [
    "s <- sample.data.frame(airports, 10, orig.ids = FALSE)\n",
    "head(s,15)"
   ]
  },
  {
   "cell_type": "markdown",
   "id": "23f7490c-3226-461b-b19d-840923ab12aa",
   "metadata": {
    "editable": true,
    "slideshow": {
     "slide_type": ""
    },
    "tags": []
   },
   "source": [
    "We can find the average elevation above sea level for these 10 airports by subsetting our sample data frame **s**."
   ]
  },
  {
   "cell_type": "code",
   "execution_count": 7,
   "id": "9d9ad161-c3d2-4619-9b72-bcedef2fcda8",
   "metadata": {
    "editable": true,
    "slideshow": {
     "slide_type": ""
    },
    "tags": []
   },
   "outputs": [
    {
     "data": {
      "text/html": [
       "1294.4"
      ],
      "text/latex": [
       "1294.4"
      ],
      "text/markdown": [
       "1294.4"
      ],
      "text/plain": [
       "[1] 1294.4"
      ]
     },
     "metadata": {},
     "output_type": "display_data"
    }
   ],
   "source": [
    "mean(s[ , 'elevation_ft'])"
   ]
  },
  {
   "cell_type": "markdown",
   "id": "389dbef7-4c73-4ce3-a982-eb02595b06ae",
   "metadata": {
    "editable": true,
    "slideshow": {
     "slide_type": ""
    },
    "tags": []
   },
   "source": [
    "**Putting it Together.** Eventually, we want to run a loop that does this a thousand or more times. Thus, we prefer a single line of code that will do it for us all at once. We wrap the *sample.data.frame()* function inside the *mean* function as shown below.\n",
    "\n",
    "**Run the code below multiple times to see how we're sampling plus finding the average Narcissism level for each.**"
   ]
  },
  {
   "cell_type": "code",
   "execution_count": 9,
   "id": "e9d93693-f34a-4b7a-a3a6-b2f8ef97ceaf",
   "metadata": {
    "editable": true,
    "slideshow": {
     "slide_type": ""
    },
    "tags": []
   },
   "outputs": [
    {
     "data": {
      "text/html": [
       "668"
      ],
      "text/latex": [
       "668"
      ],
      "text/markdown": [
       "668"
      ],
      "text/plain": [
       "[1] 668"
      ]
     },
     "metadata": {},
     "output_type": "display_data"
    }
   ],
   "source": [
    "mean(sample.data.frame(airports, 10, orig.ids = F)[ , 'elevation_ft'])"
   ]
  },
  {
   "cell_type": "markdown",
   "id": "8c55b804-3620-4316-81ae-cbcbf25b7304",
   "metadata": {
    "editable": true,
    "slideshow": {
     "slide_type": ""
    },
    "tags": []
   },
   "source": [
    "### Step 2: Creating a for Loop\n",
    "\n",
    "The steps make sense if we consider them separately:\n",
    "\n",
    "1. Create **all_means**, an initially empty vector where we plan to store our sample means.\n",
    "2. Create a for loop that will a thousand times.\n",
    "3. Inside the loop, we will:\n",
    "  - Gather a sample of size $n=10$.\n",
    "  - Calcuate the mean.\n",
    "  - Add this value to the **all_means** vector."
   ]
  },
  {
   "cell_type": "code",
   "execution_count": 18,
   "id": "b87ef71f-bd5d-4504-90f8-a763288c3a80",
   "metadata": {
    "editable": true,
    "slideshow": {
     "slide_type": ""
    },
    "tags": []
   },
   "outputs": [],
   "source": [
    "all_means <- c()                                         #Empty vector to store all the sample means\n",
    "for (count in 1:1000){\n",
    "    sample <- sample.data.frame(airports, 10, orig.ids = F)     #Generate a sample (size n=10)\n",
    "    all_means[count] <- mean(sample[ , 'elevation_ft'])          #Save the mean of this sample in my list\n",
    "}"
   ]
  },
  {
   "cell_type": "markdown",
   "id": "58455a0b-7da6-407f-a610-04498d78c4a0",
   "metadata": {
    "editable": true,
    "slideshow": {
     "slide_type": ""
    },
    "tags": []
   },
   "source": [
    "Notice that we now have a vector **all_means**, so we display the distribution in a histogram and caculate various statistics."
   ]
  },
  {
   "cell_type": "code",
   "execution_count": 36,
   "id": "5b3f7438-0804-4abe-a458-be09848c4c26",
   "metadata": {
    "editable": true,
    "slideshow": {
     "slide_type": ""
    },
    "tags": []
   },
   "outputs": [
    {
     "name": "stdout",
     "output_type": "stream",
     "text": [
      "The grand mean from the simulation =  1268.239"
     ]
    },
    {
     "data": {
      "image/png": "[encoded data removed]",
      "text/plain": [
       "Plot with title \"Histogram: Elevation of Airports\""
      ]
     },
     "metadata": {},
     "output_type": "display_data"
    }
   ],
   "source": [
    "cat('The grand mean from the simulation = ', mean(na.omit(all_means)))\n",
    "hist(all_means, main = 'Histogram: Elevation of Airports', xlab = 'elevation_ft')"
   ]
  },
  {
   "cell_type": "markdown",
   "id": "0b4933a3-1ea9-4e01-a496-d072cf49acc2",
   "metadata": {
    "editable": true,
    "slideshow": {
     "slide_type": ""
    },
    "tags": []
   },
   "source": [
    "### Step 3: The Middle 90% of the Distribution\n",
    "\n",
    "Because we intend to use the sampling distributions to estimate the population average, we need a way to gather an interval. This interval will be our estimated range of values. For the moment, let's use the **middle 90%** of the **all_means** vector. We will need the endpoints, e.g. the 5th and 95th percentiles from the vector."
   ]
  },
  {
   "cell_type": "markdown",
   "id": "202445c0-ad6c-4ecc-b85d-cdb6d5493c93",
   "metadata": {
    "editable": true,
    "slideshow": {
     "slide_type": ""
    },
    "tags": []
   },
   "source": [
    "```{tip}\n",
    "Notice the function **na.omit**. When the data vector has too many undefined values, the statistical functions sometimes fail. We can circumvent this behavior by omitting the NA values in the data vector.\n",
    "```"
   ]
  },
  {
   "cell_type": "code",
   "execution_count": 37,
   "id": "3734dd20-44a1-484c-ba94-54b95f4995c3",
   "metadata": {
    "editable": true,
    "slideshow": {
     "slide_type": ""
    },
    "tags": []
   },
   "outputs": [
    {
     "name": "stdout",
     "output_type": "stream",
     "text": [
      "The middle 90% of the all_means vector is ( 631 , 2053.12 )."
     ]
    }
   ],
   "source": [
    "lower <- quantile(na.omit(all_means), prob = 0.05)     # Calcuate the 5th percentile.\n",
    "upper <- quantile(na.omit(all_means), prob = 0.95)     # Calcuate the 95th percentile.\n",
    "cat('The middle 90% of the all_means vector is (',lower,',',upper,').')"
   ]
  },
  {
   "cell_type": "markdown",
   "id": "22c5a1b6-b597-45de-9846-2a233d3fe4c9",
   "metadata": {
    "editable": true,
    "slideshow": {
     "slide_type": ""
    },
    "tags": []
   },
   "source": [
    "### Step 4: The Histogram with Vertical Lines Showing the 5th and 95th Percentiles\n",
    "\n",
    "We use the function **abline()** to superimpose vertical lines onto our histogram. We've already calculated the values for the 5th and 95th percentiles. We need only to use the option **v** which draws a *vertical line* at the value indicated. The color option is not vital for our purposes, but a splash of color is visually appealing.\n",
    "\n",
    "As we go forward, we will see that increased sample size will lead to a narrower bell-shape. In other words, the size of the standard deviation will become important, so let's include that in the text we print out using the **cat()** function."
   ]
  },
  {
   "cell_type": "code",
   "execution_count": 41,
   "id": "546d6789-4604-463e-b24d-47111e6fdffc",
   "metadata": {
    "editable": true,
    "slideshow": {
     "slide_type": ""
    },
    "tags": []
   },
   "outputs": [
    {
     "name": "stdout",
     "output_type": "stream",
     "text": [
      "The grand mean from the simulation =  1268.239 \n",
      "The middle 90% of the sampling distribution: is ( 631 , 2053.12 )."
     ]
    },
    {
     "data": {
      "image/png": "[encoded data removed]",
      "text/plain": [
       "Plot with title \"Histogram: Elevation of Airports\""
      ]
     },
     "metadata": {},
     "output_type": "display_data"
    }
   ],
   "source": [
    "cat('The grand mean from the simulation = ', mean(na.omit(all_means)),'\\nThe middle 90% of the sampling distribution: is (',lower,',',upper,').')\n",
    "hist(all_means, main = 'Histogram: Elevation of Airports', xlab = 'elevation_ft')\n",
    "abline( v = lower, col=\"blue\")\n",
    "abline(v = upper, col=\"blue\")"
   ]
  },
  {
   "cell_type": "markdown",
   "id": "696ca98e-62d2-4151-bbd7-34c5de98863f",
   "metadata": {
    "editable": true,
    "slideshow": {
     "slide_type": ""
    },
    "tags": []
   },
   "source": [
    "### Step 5: Performing all Tasks in 1 Code Block\n",
    "\n",
    "Now that we have unpacked each command line needed, we can put it all together into one code block. Doing so will help to quickly generate different sampling distributions for different sample sizes **n**."
   ]
  },
  {
   "cell_type": "code",
   "execution_count": 43,
   "id": "4561f6be-13ab-4110-b0ae-f6872d57583c",
   "metadata": {
    "editable": true,
    "slideshow": {
     "slide_type": ""
    },
    "tags": []
   },
   "outputs": [
    {
     "name": "stdout",
     "output_type": "stream",
     "text": [
      "The grand mean from the simulation =  1299.826 \n",
      "The middle 90% of the sampling distribution: is ( 507.735 , 2372.975 )."
     ]
    },
    {
     "data": {
      "image/png": "[encoded data removed]",
      "text/plain": [
       "Plot with title \"Histogram: Elevation of Airports\""
      ]
     },
     "metadata": {},
     "output_type": "display_data"
    }
   ],
   "source": [
    "all_means <- c()                                           #Empty vector to store all the sample means\n",
    "\n",
    "for (count in 1:1000){\n",
    "    sample <- sample.data.frame(airports, 10, orig.ids = F)       #Controls sample size\n",
    "    all_means[count] <- mean(sample[ , 'elevation_ft'])\n",
    "}\n",
    "\n",
    "upper <- quantile(na.omit(all_means), prob = 0.95)\n",
    "lower <- quantile(na.omit(all_means), prob = 0.05)\n",
    "cat('The grand mean from the simulation = ', mean(na.omit(all_means)),'\\nThe middle 90% of the sampling distribution: is (',lower,',',upper,').')\n",
    "hist(all_means, main = 'Histogram: Elevation of Airports', xlab = 'elevation_ft')\n",
    "abline( v = lower, col=\"blue\")\n",
    "abline(v = upper, col=\"blue\")"
   ]
  },
  {
   "cell_type": "markdown",
   "id": "832e3750-c8df-47b8-b77b-a8a673aa1c89",
   "metadata": {
    "editable": true,
    "slideshow": {
     "slide_type": ""
    },
    "tags": []
   },
   "source": [
    "## Task\n",
    "\n",
    "Let's increase the sample size. We will conduct the same simulation for sample sizes:\n",
    "\n",
    "- 100\n",
    "- 200\n",
    "- 500\n",
    "- 1000\n",
    "\n",
    "After doing so, we will fill in the table below with the values we found:\n",
    "\n",
    "<table class=\"center\" style=\"width:80%; text-align:center;\">\n",
    "  <tr>\n",
    "    <th>Repititions</th>\n",
    "    <th>Sample Size</th> \n",
    "    <th>Grand Mean from Simulation </th>\n",
    "    <th>Middle 90% of Simulated Data</th>\n",
    "  </tr>\n",
    "  <tr>\n",
    "    <td>1,000</td>\n",
    "    <td>100</td>\n",
    "    <td>xx</td>\n",
    "    <td>yy</td>\n",
    "  </tr>\n",
    "  <tr>\n",
    "    <td>1,000</td>\n",
    "    <td>200</td>\n",
    "    <td>xx</td>\n",
    "    <td>yy</td>\n",
    "  </tr>\n",
    "  <tr>\n",
    "    <td>1,000</td>\n",
    "    <td>500</td>\n",
    "    <td>xx</td>\n",
    "    <td>yy</td>\n",
    "  </tr>\n",
    "  <tr>\n",
    "    <td>1,000</td>\n",
    "    <td>1,000</td>\n",
    "    <td>xx</td>\n",
    "    <td>yy</td>\n",
    "  </tr>\n",
    "</table>"
   ]
  },
  {
   "cell_type": "code",
   "execution_count": null,
   "id": "115cb26f-e69e-485a-9f9e-44c8587963d3",
   "metadata": {},
   "outputs": [],
   "source": []
  },
  {
   "cell_type": "code",
   "execution_count": null,
   "id": "498dd76e-dec2-42d3-87d0-dbc8500537da",
   "metadata": {},
   "outputs": [],
   "source": []
  },
  {
   "cell_type": "code",
   "execution_count": null,
   "id": "16fbca4c-eb11-4ba1-9338-3bf58a787e4a",
   "metadata": {},
   "outputs": [],
   "source": []
  },
  {
   "cell_type": "code",
   "execution_count": null,
   "id": "0d93696d-e960-4611-9845-b9c91b632d03",
   "metadata": {},
   "outputs": [],
   "source": []
  },
  {
   "cell_type": "code",
   "execution_count": null,
   "id": "8f1ce220-7dc5-42f0-8047-b1c6b608a823",
   "metadata": {},
   "outputs": [],
   "source": []
  },
  {
   "cell_type": "markdown",
   "id": "8a31910d-e21a-4e42-a51e-498fbb880374",
   "metadata": {},
   "source": [
    "## Task 2\n",
    "\n",
    "Using the **united** data frame, estimate the mean **Delay** in minutes for these flights."
   ]
  },
  {
   "cell_type": "code",
   "execution_count": null,
   "id": "a7a4dd63-f390-43bd-aec2-775554640e79",
   "metadata": {},
   "outputs": [],
   "source": []
  },
  {
   "cell_type": "code",
   "execution_count": null,
   "id": "7851e57f-b176-4b10-93e4-dfe72a19e80c",
   "metadata": {},
   "outputs": [],
   "source": []
  },
  {
   "cell_type": "code",
   "execution_count": null,
   "id": "61a43378-3f67-4b83-bfb3-d6f52a06b613",
   "metadata": {},
   "outputs": [],
   "source": []
  },
  {
   "cell_type": "code",
   "execution_count": null,
   "id": "4dc69868-178f-4e5b-bd34-3470c2a4bc35",
   "metadata": {},
   "outputs": [],
   "source": []
  },
  {
   "cell_type": "code",
   "execution_count": null,
   "id": "26c0077f-9257-4a86-8c26-7105a4bbc29f",
   "metadata": {},
   "outputs": [],
   "source": []
  },
  {
   "cell_type": "markdown",
   "id": "cfaba36d-609b-4865-b417-1ebec72419bf",
   "metadata": {},
   "source": [
    "## Task 3\n",
    "\n",
    "Using the **births** data frame, estimate the mean **Birth.Weight** in ounces for the birth weights of the babies in the data frame."
   ]
  },
  {
   "cell_type": "code",
   "execution_count": null,
   "id": "08a9f5e2-5e66-4b76-8633-b3f3620c5c75",
   "metadata": {},
   "outputs": [],
   "source": []
  },
  {
   "cell_type": "code",
   "execution_count": null,
   "id": "46abae6f-a2e2-4933-9346-bdd2a3bfef38",
   "metadata": {},
   "outputs": [],
   "source": []
  },
  {
   "cell_type": "code",
   "execution_count": null,
   "id": "840f8111-ca05-4835-a767-9a69f51f12a8",
   "metadata": {},
   "outputs": [],
   "source": []
  },
  {
   "cell_type": "code",
   "execution_count": null,
   "id": "38aece92-8b25-49c8-b2e1-a73d0bfe3724",
   "metadata": {},
   "outputs": [],
   "source": []
  },
  {
   "cell_type": "code",
   "execution_count": null,
   "id": "f02aa888-374a-485b-93bb-f00704a8ddc1",
   "metadata": {},
   "outputs": [],
   "source": []
  }
 ],
 "metadata": {
  "kernelspec": {
   "display_name": "R",
   "language": "R",
   "name": "ir"
  },
  "language_info": {
   "codemirror_mode": "r",
   "file_extension": ".r",
   "mimetype": "text/x-r-source",
   "name": "R",
   "pygments_lexer": "r",
   "version": "3.6.1"
  }
 },
 "nbformat": 4,
 "nbformat_minor": 5
}

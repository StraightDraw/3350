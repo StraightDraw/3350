{
 "cells": [
  {
   "cell_type": "markdown",
   "id": "e2cd34da-cbe9-47e7-a0d0-2701b1e24b3e",
   "metadata": {},
   "source": [
    "# S04c: Matched Pairs $t$-Test\n",
    "\n",
    "The quintessential **matched pairs** scenario is a pretest vs. posstest design. The sample data are <span style = 'color:red;text-weight:bold'>paired</span> because the same participants take both the pretest and the posttest. \n",
    "\n",
    "Other ways the data can be paired do exist:\n",
    "- Twin studies -- the scores of identical twins are paired.\n",
    "- Dominant hand -- reaction time is measured for participants with the right hand scires and left hand scores paired.\n",
    "- Married couples -- the scores of both partners are paired.\n",
    "\n",
    "Other scenarios exist, but we must have real-world research reason to pair the scores. We might be comparing crime rates between two states, and we can pair them year by year.\n",
    "\n",
    "## Robustness\n",
    "\n",
    "We do wish to use the matched pairs $t$ whenever possible as it is a very powerful test. However, we must have a feature within the data that allows it."
   ]
  },
  {
   "cell_type": "markdown",
   "id": "e31b6062-dc55-451c-b83b-0c42fe2ac0a7",
   "metadata": {},
   "source": [
    "## Gain Scores\n",
    "\n",
    "We conduct a <span style = 'color:blue;text-weight:bold'>matched pairs $t$-test</span> by creating a single sample of \\textbf{\\textcolor{red}{gain}} scores and running a one sample $t$-test on the gains. Gain scores are calculated as follows:\n",
    "\n",
    "$$\\textbf{gain} = \\textbf{post} - \\textbf{pre}$$\n",
    "\n",
    "We subtract the pretest score from the posttest score for each participant. In this way:\n",
    "- **Positive gain scores** indicate an **increase** from pretest to posstest.\n",
    "- **Negative gain scores** gain scores indicate a **decrease** from pretest to posstest."
   ]
  },
  {
   "cell_type": "markdown",
   "id": "27633e3d-06cc-4d26-9adb-5e474fef2666",
   "metadata": {},
   "source": [
    "## Conducting a Matched Pairs $t$-Test\n",
    "\n",
    "We conduct a 1-sample $t$-Test on the gain scores in every aspect: data verification works exactly as it did for the original $t$-Test."
   ]
  },
  {
   "cell_type": "markdown",
   "id": "e33775ad-c80b-45be-9ff4-af1ebb66c68c",
   "metadata": {},
   "source": [
    "## Example 1: Hypnosis and Pain\n",
    "\n",
    "A study was conducted to investigate the effectiveness of hypnotism in reducing pain. Results for randomly selected subjects are shown in the table below. A lower score indicates less pain. The “before” value is matched to an “after” value and the differences are calculated. The differences have a normal distribution. Are the sensory measurements, on average, lower after hypnotism? Test at an $\\alpha = 0.05$ significance level.\n",
    "\n",
    "<table text-align: center; style=\"width:35%\">\n",
    "  <tr>\n",
    "    <th>Subject:</th>\n",
    "    <th>Before</th> \n",
    "    <th>After</th>\n",
    "  </tr>\n",
    "  <tr>\n",
    "    <td style=\"text-align: center\">A</td>\n",
    "    <td style=\"text-align: center\">6.6</td>\n",
    "    <td style=\"text-align: center\">6.8</td>\n",
    "  </tr>\n",
    "  <tr>\n",
    "    <td style=\"text-align: center\">B</td>\n",
    "    <td style=\"text-align: center\">6.5</td>\n",
    "    <td style=\"text-align: center\">2.4</td>\n",
    "  </tr>\n",
    "  <tr>\n",
    "    <td style=\"text-align: center\">C</td>\n",
    "    <td style=\"text-align: center\">9.0</td>\n",
    "    <td style=\"text-align: center\">7.4</td>\n",
    "  </tr>\n",
    "  <tr>\n",
    "    <td style=\"text-align: center\">D</td>\n",
    "    <td style=\"text-align: center\">10.3</td>\n",
    "    <td style=\"text-align: center\">8.5</td>\n",
    "  </tr>\n",
    "  <tr>\n",
    "    <td style=\"text-align: center\">E</td>\n",
    "    <td style=\"text-align: center\">11.3</td>\n",
    "    <td style=\"text-align: center\">8.1</td>\n",
    "  </tr>\n",
    "  <tr>\n",
    "    <td style=\"text-align: center\">F</td>\n",
    "    <td style=\"text-align: center\">8.1</td>\n",
    "    <td style=\"text-align: center\">6.1</td>\n",
    "  </tr>\n",
    "  <tr>\n",
    "    <td style=\"text-align: center\">G</td>\n",
    "    <td style=\"text-align: center\">6.3</td>\n",
    "    <td style=\"text-align: center\">3.4</td>\n",
    "  <tr>\n",
    "    <td style=\"text-align: center\">H</td>\n",
    "    <td style=\"text-align: center\">11.6</td>\n",
    "    <td style=\"text-align: center\">2.0</td>\n",
    "  </tr>\n",
    "</table>"
   ]
  },
  {
   "cell_type": "code",
   "execution_count": 5,
   "id": "3be3d439-eba5-49c7-b67e-0a5a3df388d5",
   "metadata": {},
   "outputs": [],
   "source": [
    "before <- c( 6.6, 6.5, 9.0, 10.3, 11.3, 8.1, 6.3, 11.6)\n",
    "after <- c(6.8, 2.4, 7.4, 8.5, 8.1, 6.1, 3.4, 8.2)"
   ]
  },
  {
   "cell_type": "code",
   "execution_count": null,
   "id": "26ce929d-f8fe-4580-abec-6f5bf43ee415",
   "metadata": {},
   "outputs": [],
   "source": []
  },
  {
   "cell_type": "code",
   "execution_count": null,
   "id": "ce6e0e45-f662-4256-b475-b2528da2dc4e",
   "metadata": {},
   "outputs": [],
   "source": []
  },
  {
   "cell_type": "code",
   "execution_count": null,
   "id": "366dbd93-0998-4ef3-9f19-930da7d72688",
   "metadata": {},
   "outputs": [],
   "source": []
  },
  {
   "cell_type": "code",
   "execution_count": null,
   "id": "30a69d73-fcae-4e00-8c5f-f7a73ca6025d",
   "metadata": {},
   "outputs": [],
   "source": []
  },
  {
   "cell_type": "code",
   "execution_count": null,
   "id": "55304f3e-9dcf-4ea8-b4b2-d3fb919c6250",
   "metadata": {},
   "outputs": [],
   "source": []
  },
  {
   "cell_type": "markdown",
   "id": "8aae0146-f260-47c7-996c-fb2ce56f184b",
   "metadata": {},
   "source": [
    "## Example 2: Stress\n",
    "\n",
    "Stress was measured during the 2nd week of classes and again at midterms. In the **personality** data frame, the variables are coded as follows:\n",
    "\n",
    "- <span style = 'color:blue;font-weight:bold'>Stress1</span>: 2nd week stress\n",
    "- <span style = 'color:blue;font-weight:bold'>stress2</span>: midterm stress score.\n",
    "\n",
    "Using a pretest vs. posttest design, test at the $alpha = 0.05 level$ whether there was increase in stress during midterms compared to early in the semester."
   ]
  },
  {
   "cell_type": "code",
   "execution_count": null,
   "id": "6dcbc3e4-ad0f-4bdb-aa9e-425070d09e4c",
   "metadata": {},
   "outputs": [],
   "source": []
  },
  {
   "cell_type": "code",
   "execution_count": null,
   "id": "a2fe7e7b-6bb2-4a54-9ad2-2962a3846800",
   "metadata": {},
   "outputs": [],
   "source": []
  },
  {
   "cell_type": "code",
   "execution_count": null,
   "id": "ca2abc52-8c89-4721-9620-1fd2a07ae025",
   "metadata": {},
   "outputs": [],
   "source": []
  },
  {
   "cell_type": "code",
   "execution_count": null,
   "id": "3c3a5df4-9d2f-41f7-b5be-0517322be268",
   "metadata": {},
   "outputs": [],
   "source": []
  },
  {
   "cell_type": "code",
   "execution_count": null,
   "id": "78f2d302-6afa-479b-9de0-627659615da5",
   "metadata": {},
   "outputs": [],
   "source": []
  }
 ],
 "metadata": {
  "kernelspec": {
   "display_name": "R",
   "language": "R",
   "name": "ir"
  },
  "language_info": {
   "codemirror_mode": "r",
   "file_extension": ".r",
   "mimetype": "text/x-r-source",
   "name": "R",
   "pygments_lexer": "r",
   "version": "3.6.1"
  }
 },
 "nbformat": 4,
 "nbformat_minor": 5
}

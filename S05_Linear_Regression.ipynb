{
 "cells": [
  {
   "cell_type": "markdown",
   "id": "0d40ea08-f504-4e13-bdea-6e4c1048cf00",
   "metadata": {},
   "source": [
    "# S05: Linear Regression\n",
    "\n",
    "Let's load 2 additional data frames to use along with **mtcars** to do examples."
   ]
  },
  {
   "cell_type": "code",
   "execution_count": 13,
   "id": "29caab10-7ea2-4925-91b8-2a9a0d58091f",
   "metadata": {},
   "outputs": [],
   "source": [
    "pers <- read.csv('https://faculty.ung.edu/rsinn/data/personality.csv')\n",
    "births <-  read.csv('https://faculty.ung.edu/rsinn/data/baby.csv')"
   ]
  },
  {
   "cell_type": "markdown",
   "id": "fe41ed56-f936-4f3d-9254-9f7c60cda0ee",
   "metadata": {},
   "source": [
    "## Example 1: Automobiles' mpg vs. disp\n",
    "\n",
    "Compare **mpg** vs. **disp** in the **mtcars** data frame at the $\\alpha = 0.05$ level."
   ]
  },
  {
   "cell_type": "markdown",
   "id": "b784d939-62fc-4b7f-b332-528ca292ecb6",
   "metadata": {},
   "source": [
    "### Hypothesis\n",
    "\n"
   ]
  },
  {
   "cell_type": "markdown",
   "id": "ae21d282-a108-46c8-98f0-a537686aef8d",
   "metadata": {},
   "source": [
    "### Create model"
   ]
  },
  {
   "cell_type": "code",
   "execution_count": 26,
   "id": "cdc0ea87-295b-4bde-9eeb-adf9a909f6b5",
   "metadata": {},
   "outputs": [],
   "source": [
    "mod <- lm(mpg ~ disp, data = mtcars)"
   ]
  },
  {
   "cell_type": "markdown",
   "id": "00a7ba61-7c5f-4c84-bf3b-6e3b8d5276ac",
   "metadata": {},
   "source": [
    "### Scatter Plot with Line of Best of Fit"
   ]
  },
  {
   "cell_type": "code",
   "execution_count": 27,
   "id": "1ef69f5a-4509-4e3a-94f1-13ccb20c7e53",
   "metadata": {},
   "outputs": [
    {
     "data": {
      "image/png": "[encoded data removed]",
      "text/plain": [
       "plot without title"
      ]
     },
     "metadata": {},
     "output_type": "display_data"
    }
   ],
   "source": [
    "plot(mpg ~ disp, data = mtcars)\n",
    "abline(mod, lwd = 3, col = 'blue')"
   ]
  },
  {
   "cell_type": "markdown",
   "id": "43180990-cad5-4920-9740-c474c60242ae",
   "metadata": {},
   "source": [
    "### Data Verification\n",
    "\n",
    "We need to check for normality of the residuals which we do by inspecting a QQ plot of the residuals and a density plot of the residuals."
   ]
  },
  {
   "cell_type": "code",
   "execution_count": 31,
   "id": "fd8feca4-aa45-4faf-abc6-0bfb6e2d6041",
   "metadata": {},
   "outputs": [
    {
     "data": {
      "image/png": "[encoded data removed]",
      "text/plain": [
       "Plot with title \"Density: Residuals\""
      ]
     },
     "metadata": {},
     "output_type": "display_data"
    }
   ],
   "source": [
    "layout(matrix(c(1,2), ncol = 2), lcm(9))\n",
    "plt <- { qqnorm(mod$residuals, main = 'QQ Plot: Residuals') ;\n",
    "        qqline(mod$residuals) }\n",
    "plot(density(mod$residuals), main = 'Density: Residuals')"
   ]
  },
  {
   "cell_type": "code",
   "execution_count": 29,
   "id": "00bdd5b2-d040-46cb-a2bf-164ba49ae000",
   "metadata": {},
   "outputs": [
    {
     "name": "stdout",
     "output_type": "stream",
     "text": [
      "r = -0.8475514"
     ]
    },
    {
     "data": {
      "text/plain": [
       "\n",
       "Call:\n",
       "lm(formula = mpg ~ disp, data = mtcars)\n",
       "\n",
       "Residuals:\n",
       "    Min      1Q  Median      3Q     Max \n",
       "-4.8922 -2.2022 -0.9631  1.6272  7.2305 \n",
       "\n",
       "Coefficients:\n",
       "             Estimate Std. Error t value Pr(>|t|)    \n",
       "(Intercept) 29.599855   1.229720  24.070  < 2e-16 ***\n",
       "disp        -0.041215   0.004712  -8.747 9.38e-10 ***\n",
       "---\n",
       "Signif. codes:  0 '***' 0.001 '**' 0.01 '*' 0.05 '.' 0.1 ' ' 1\n",
       "\n",
       "Residual standard error: 3.251 on 30 degrees of freedom\n",
       "Multiple R-squared:  0.7183,\tAdjusted R-squared:  0.709 \n",
       "F-statistic: 76.51 on 1 and 30 DF,  p-value: 9.38e-10\n"
      ]
     },
     "metadata": {},
     "output_type": "display_data"
    }
   ],
   "source": [
    "cat('r =', cor(mtcars$mpg,mtcars$disp))\n",
    "summary(mod)"
   ]
  },
  {
   "cell_type": "code",
   "execution_count": null,
   "id": "05a01625-14a0-48ba-94f1-8a0cc0c079d7",
   "metadata": {},
   "outputs": [],
   "source": []
  },
  {
   "cell_type": "code",
   "execution_count": null,
   "id": "730973d2-feb0-4ff2-ae9e-9f64d55f17dd",
   "metadata": {},
   "outputs": [],
   "source": []
  },
  {
   "cell_type": "code",
   "execution_count": null,
   "id": "f290ad3b-1206-4c05-a73d-dd6120873c24",
   "metadata": {},
   "outputs": [],
   "source": []
  },
  {
   "cell_type": "code",
   "execution_count": null,
   "id": "d5323c6c-5eb0-45b1-8ae4-d24b16dc903b",
   "metadata": {},
   "outputs": [],
   "source": []
  },
  {
   "cell_type": "markdown",
   "id": "5faeccd3-1767-4960-8ed1-457c2102d259",
   "metadata": {},
   "source": [
    "## Example 2: Thrill-seeking vs. Optimism\n",
    "\n",
    "Use the personality data frame **perf** and the variables **Thrill** and **Opt** at the $\\alpha = 0.05$ level."
   ]
  },
  {
   "cell_type": "code",
   "execution_count": null,
   "id": "d69bb2cf-a0ad-40ba-a513-56b1e4746e06",
   "metadata": {},
   "outputs": [],
   "source": []
  },
  {
   "cell_type": "code",
   "execution_count": null,
   "id": "266ab38e-e2b6-4cb7-9b63-c11a7036e217",
   "metadata": {},
   "outputs": [],
   "source": []
  },
  {
   "cell_type": "code",
   "execution_count": null,
   "id": "723c4845-ec25-4db1-8f11-085437e4b456",
   "metadata": {},
   "outputs": [],
   "source": []
  },
  {
   "cell_type": "code",
   "execution_count": null,
   "id": "108bab27-47f9-457e-b826-af75c5a2aa6b",
   "metadata": {},
   "outputs": [],
   "source": []
  },
  {
   "cell_type": "code",
   "execution_count": null,
   "id": "910adfa7-0409-4dfb-9908-97f6da04b1ae",
   "metadata": {},
   "outputs": [],
   "source": []
  },
  {
   "cell_type": "markdown",
   "id": "b6415317-6631-481b-8cac-6592d74e0ba7",
   "metadata": {},
   "source": [
    "## Example 3: Gestational Days vs. Birth Weights\n",
    "\n",
    "Use the **births** data frame to compare **Gestational.Days** to **Birth.Weight** at the $\\alpha = 0.05$ level."
   ]
  },
  {
   "cell_type": "code",
   "execution_count": null,
   "id": "328718f9-e17b-49f6-92de-c385b5beccbc",
   "metadata": {},
   "outputs": [],
   "source": []
  },
  {
   "cell_type": "code",
   "execution_count": null,
   "id": "68349544-11c2-4cda-8094-0f2936b50705",
   "metadata": {},
   "outputs": [],
   "source": []
  },
  {
   "cell_type": "code",
   "execution_count": null,
   "id": "c5ea991f-e617-4786-9949-3b92933b2867",
   "metadata": {},
   "outputs": [],
   "source": []
  },
  {
   "cell_type": "code",
   "execution_count": null,
   "id": "4b7e166c-98a6-4caa-9361-73907c2a9eea",
   "metadata": {},
   "outputs": [],
   "source": []
  },
  {
   "cell_type": "code",
   "execution_count": null,
   "id": "0b1df272-4548-472f-9cce-ace6f2df870d",
   "metadata": {},
   "outputs": [],
   "source": []
  }
 ],
 "metadata": {
  "kernelspec": {
   "display_name": "R",
   "language": "R",
   "name": "ir"
  },
  "language_info": {
   "codemirror_mode": "r",
   "file_extension": ".r",
   "mimetype": "text/x-r-source",
   "name": "R",
   "pygments_lexer": "r",
   "version": "3.6.1"
  }
 },
 "nbformat": 4,
 "nbformat_minor": 5
}

{
 "cells": [
  {
   "cell_type": "markdown",
   "id": "6173ef7b-c6d7-4cf6-a78a-2732843543ff",
   "metadata": {},
   "source": [
    "# The Normal Curve\n",
    "\n",
    "The normal curve is the bell curve, and the modern function that describes the **Normal Distribution** is as follows:"
   ]
  },
  {
   "cell_type": "markdown",
   "id": "3a0aedba-51fd-4d49-af33-98301c9bbf57",
   "metadata": {},
   "source": [
    "$$\n",
    "f(x) = \\frac{1}{\\sigma \\sqrt{2\\pi} } e^{-\\frac{1}{2}\\left(\\frac{x-\\mu}{\\sigma}\\right)^2}\n",
    "$$"
   ]
  },
  {
   "cell_type": "markdown",
   "id": "a89d7d05-5bd7-4bf6-b7a3-4b7ad2cc4f30",
   "metadata": {},
   "source": [
    "where $\\mu$ is the mean and $\\sigma$ is the standard deviation. In this course, we use the notation $N(\\mu, \\sigma)$ to refer to a normal distribution with the indicated mean and standard deviation."
   ]
  },
  {
   "cell_type": "markdown",
   "id": "c560fa37-9577-4ece-aed8-1da7e8232f6b",
   "metadata": {},
   "source": [
    "## The Standard Normal\n",
    "\n",
    "For the purposes of calcuation, especially when the integrals involved must be done by hand, mathematicians developed a simplification where\n",
    "\n",
    "- $\\mu = 0$\n",
    "- $\\sigma = 1$\n",
    "\n",
    "One can readily verify by inspection of the above intgral that, computational, this simplication should make the integration more easily accomplished."
   ]
  },
  {
   "cell_type": "markdown",
   "id": "d675a33a-6a11-4158-80da-5199265ec5a9",
   "metadata": {},
   "source": [
    "## Standardized Scores\n",
    "\n",
    "Statistics before computers involved tables. Any score within the experimentally gathered data could be converted to a standardized score. In this way, the estimation or calculation of percentiles was possible for any data point in the sample data. A stadardized score called a $z$-score was computed, and the relevant value was found in a table."
   ]
  },
  {
   "cell_type": "markdown",
   "id": "4bdffa71-7d5a-440f-a02a-dd84889c0457",
   "metadata": {},
   "source": [
    "The formula for calcuating a $z$-score is as follows:\n",
    "\n",
    "$$z = \\frac{x - \\mu}{\\sigma}$$\n",
    "\n",
    "In modern statistical practice, we often estimate $\\mu$ and $\\sigma$.  Thus, we often **estimate** $z$-scores based upon the sample average and sample standard deviation with the following:\n",
    "\n",
    "$$z = \\frac{x - \\bar{x}}{s}$$"
   ]
  },
  {
   "cell_type": "markdown",
   "id": "70c054af-6c1b-474c-863c-b6a4c8a26001",
   "metadata": {},
   "source": [
    "## Calculations with the Normal Curve\n",
    "\n",
    "We some normal distributions for our examples. The following are some well-known distributions.\n",
    "\n",
    "The SAT has the distribution:\n",
    "\n",
    "$$N(1000, 200)$$\n",
    "\n",
    "while the ACT has the distribution:\n",
    "\n",
    "$$N(21,5)$$\n",
    "\n",
    "The classic IQ distribution has the distribution:\n",
    "\n",
    "$$N(100,15)$$"
   ]
  },
  {
   "cell_type": "markdown",
   "id": "5e678cb8-43ca-4363-b15a-e0acbbff8e99",
   "metadata": {},
   "source": [
    "## Example 1\n",
    "\n",
    "The ACT traditionally has scores that follow a $N(21,5)$ distribution. If Molly scored a 29 on the ACT, in what percentile was her score?\n",
    "\n",
    "**$z$-score**\n",
    "\n",
    "We first calculate her standardized score:\n",
    "\n",
    "$$z_M = \\frac{29 -21}{5} = \\cdots$$"
   ]
  },
  {
   "cell_type": "code",
   "execution_count": null,
   "id": "fc168a6a-addf-4997-858a-da336f1f23e6",
   "metadata": {},
   "outputs": [],
   "source": []
  },
  {
   "cell_type": "markdown",
   "id": "5a1f4a7b-20a0-4e16-b256-389b324385da",
   "metadata": {},
   "source": [
    "Then, we can use the **pnorm()** function to find the corresponding percentile score."
   ]
  },
  {
   "cell_type": "code",
   "execution_count": null,
   "id": "5bb95a88-76ff-4c9d-bd76-e7f2fcf45d11",
   "metadata": {},
   "outputs": [],
   "source": []
  },
  {
   "cell_type": "markdown",
   "id": "a8dc62e9-8d14-4f19-9732-3048e7b1a127",
   "metadata": {},
   "source": [
    "## Example 2\n",
    "\n",
    "What if we knew that Dolly scored in the 87th percentile on the ACT. What was her score?\n",
    "\n",
    "First, we have to convert the percentile into a standardized score. For this, we use the R function **qnorm()**."
   ]
  },
  {
   "cell_type": "code",
   "execution_count": null,
   "id": "966c32ac-33f5-4d6f-9b85-cf6606ce1431",
   "metadata": {},
   "outputs": [],
   "source": []
  },
  {
   "cell_type": "markdown",
   "id": "d7872712-80c7-4ca5-b47d-28587f7fe1c8",
   "metadata": {},
   "source": [
    "We can then plug our known values into the $z$-score formula to determine the raw score corresponding to this percentile."
   ]
  },
  {
   "cell_type": "code",
   "execution_count": null,
   "id": "77ad4e73-dba6-4c1a-8e06-6d74cac7736d",
   "metadata": {},
   "outputs": [],
   "source": []
  },
  {
   "cell_type": "markdown",
   "id": "c31893a9-e552-4dc0-aded-59872b6036e7",
   "metadata": {},
   "source": [
    "## Example 3\n",
    "\n",
    "Calculate the $z$-score and percentile for someone who scored a 1270 on the SAT. \n",
    "\n",
    "Use the function **pnorm()** after finding the $z$-score corresponding to a raw SAT score of 1270."
   ]
  },
  {
   "cell_type": "code",
   "execution_count": null,
   "id": "c7f7cd97-0d09-4ff1-8737-130184260aea",
   "metadata": {},
   "outputs": [],
   "source": []
  },
  {
   "cell_type": "code",
   "execution_count": null,
   "id": "6c7dc9f0-4ea0-454d-b113-2b1aa59f2466",
   "metadata": {},
   "outputs": [],
   "source": []
  },
  {
   "cell_type": "code",
   "execution_count": null,
   "id": "52a22134-d926-4747-9771-e622ca5746f3",
   "metadata": {},
   "outputs": [],
   "source": []
  },
  {
   "cell_type": "markdown",
   "id": "f8e9a960-f340-4dc5-b40e-738b98205666",
   "metadata": {},
   "source": [
    "## Example 4\n",
    "\n",
    "Find the 95th percentile SAT score."
   ]
  },
  {
   "cell_type": "code",
   "execution_count": null,
   "id": "2bbda8d0-7531-4e4d-9fa5-5c29ffb726eb",
   "metadata": {},
   "outputs": [],
   "source": []
  },
  {
   "cell_type": "code",
   "execution_count": null,
   "id": "e4da7cca-2b8b-4606-9961-015d10476fba",
   "metadata": {},
   "outputs": [],
   "source": []
  },
  {
   "cell_type": "code",
   "execution_count": null,
   "id": "412fc2ad-171e-44ff-810e-1ee7ffb44526",
   "metadata": {},
   "outputs": [],
   "source": []
  },
  {
   "cell_type": "markdown",
   "id": "79e71f98-51d7-4819-bec4-658a2833cd7b",
   "metadata": {},
   "source": [
    "## Example 5\n",
    "\n",
    "Sally earned a 31 on the ACT while Joanna earned a 1380 on the SAT. Who did better relative to the test she took?"
   ]
  },
  {
   "cell_type": "code",
   "execution_count": null,
   "id": "cc11e122-eb2b-47b3-a3ec-2a419e53f198",
   "metadata": {},
   "outputs": [],
   "source": []
  },
  {
   "cell_type": "code",
   "execution_count": null,
   "id": "d06d9182-cbaf-479a-b73c-ad361f01bfa2",
   "metadata": {},
   "outputs": [],
   "source": []
  },
  {
   "cell_type": "code",
   "execution_count": null,
   "id": "c143e6c2-fab9-4771-aec9-3861c4167a90",
   "metadata": {},
   "outputs": [],
   "source": []
  },
  {
   "cell_type": "markdown",
   "id": "a2bf8f5b-50f9-4c4b-9a97-15a517ed4692",
   "metadata": {},
   "source": [
    "## Example 6\n",
    "\n",
    "What is the 80th percentile IQ score?"
   ]
  },
  {
   "cell_type": "code",
   "execution_count": null,
   "id": "be1a66f7-09f7-45ce-aa2e-6efedc4ce460",
   "metadata": {},
   "outputs": [],
   "source": []
  },
  {
   "cell_type": "code",
   "execution_count": null,
   "id": "5d80998c-3285-4e44-92fa-39388eba1c16",
   "metadata": {},
   "outputs": [],
   "source": []
  },
  {
   "cell_type": "code",
   "execution_count": null,
   "id": "b501971f-ff19-4438-9414-381829e8f461",
   "metadata": {},
   "outputs": [],
   "source": []
  }
 ],
 "metadata": {
  "kernelspec": {
   "display_name": "R",
   "language": "R",
   "name": "ir"
  },
  "language_info": {
   "codemirror_mode": "r",
   "file_extension": ".r",
   "mimetype": "text/x-r-source",
   "name": "R",
   "pygments_lexer": "r",
   "version": "3.6.1"
  }
 },
 "nbformat": 4,
 "nbformat_minor": 5
}

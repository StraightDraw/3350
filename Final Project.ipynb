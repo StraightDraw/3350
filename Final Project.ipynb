{
 "cells": [
  {
   "cell_type": "markdown",
   "id": "fixed-release",
   "metadata": {},
   "source": [
    "# Final Project for Probability and Statistics (MATH 3350)\n",
    "\n",
    "Please provide an exact answer to each question below. If the answer to a probability item is not a simple fraction, please also provide a estimate using R or a graphing calculator that is accurate to five significant figures. You may use the graphing calculator of your choice. **The project is open notes and open course notes: you may use anything in the Datahub and anything on our [online course notes](https://straightdraw.github.io/probstat/Introduction.html)."
   ]
  },
  {
   "cell_type": "markdown",
   "id": "identified-tackle",
   "metadata": {},
   "source": [
    "1. Consider the thirteen letters **HANNAH MONTANA**:\n",
    "    - How many unique arrangements exist?\n",
    "    - If we draw a letter at random, what is the probability an N is chosen?\n",
    "    - If we draw three letters at random, find the probability that all three of them are A's."
   ]
  },
  {
   "cell_type": "code",
   "execution_count": null,
   "id": "partial-journalism",
   "metadata": {},
   "outputs": [],
   "source": []
  },
  {
   "cell_type": "code",
   "execution_count": null,
   "id": "uniform-hopkins",
   "metadata": {},
   "outputs": [],
   "source": []
  },
  {
   "cell_type": "code",
   "execution_count": null,
   "id": "configured-foundation",
   "metadata": {},
   "outputs": [],
   "source": []
  },
  {
   "cell_type": "code",
   "execution_count": null,
   "id": "unauthorized-carroll",
   "metadata": {},
   "outputs": [],
   "source": []
  },
  {
   "cell_type": "code",
   "execution_count": null,
   "id": "clean-blend",
   "metadata": {},
   "outputs": [],
   "source": []
  },
  {
   "cell_type": "markdown",
   "id": "tight-merit",
   "metadata": {},
   "source": [
    "2. For a 5-card poker hand drawn at random from a standard deck of 52 well-shuffled cards, find the probability of getting exactly 3-of-a-kind."
   ]
  },
  {
   "cell_type": "code",
   "execution_count": null,
   "id": "willing-dominican",
   "metadata": {},
   "outputs": [],
   "source": []
  },
  {
   "cell_type": "code",
   "execution_count": null,
   "id": "talented-header",
   "metadata": {},
   "outputs": [],
   "source": []
  },
  {
   "cell_type": "code",
   "execution_count": null,
   "id": "generic-insert",
   "metadata": {},
   "outputs": [],
   "source": []
  },
  {
   "cell_type": "code",
   "execution_count": null,
   "id": "auburn-retro",
   "metadata": {},
   "outputs": [],
   "source": []
  },
  {
   "cell_type": "code",
   "execution_count": null,
   "id": "dated-naples",
   "metadata": {},
   "outputs": [],
   "source": []
  },
  {
   "cell_type": "markdown",
   "id": "impressive-football",
   "metadata": {},
   "source": [
    "3. What is the probability that Shero rolls Yatzhee on her first roll? Yatzhee is played by rolling 5 dice at once. Rolling **Yatzhee** means all five dice have the same value."
   ]
  },
  {
   "cell_type": "code",
   "execution_count": null,
   "id": "embedded-railway",
   "metadata": {},
   "outputs": [],
   "source": []
  },
  {
   "cell_type": "code",
   "execution_count": null,
   "id": "progressive-trademark",
   "metadata": {},
   "outputs": [],
   "source": []
  },
  {
   "cell_type": "code",
   "execution_count": null,
   "id": "smaller-gateway",
   "metadata": {},
   "outputs": [],
   "source": []
  },
  {
   "cell_type": "code",
   "execution_count": null,
   "id": "structural-brazilian",
   "metadata": {},
   "outputs": [],
   "source": []
  },
  {
   "cell_type": "code",
   "execution_count": null,
   "id": "minimal-fantasy",
   "metadata": {},
   "outputs": [],
   "source": []
  },
  {
   "cell_type": "markdown",
   "id": "warming-browse",
   "metadata": {},
   "source": [
    "4. Shero is playing No Limit Texas Holdem, the Cadillac of poker games. Preflop, two cards are dealt face down to each player. What is the probability that Shero is dealt two suited cards start? Suited cards indicate a preflop hand like like AQ or 97 where both cards are of the same suit (spades, hearts, diamonds, clubs)."
   ]
  },
  {
   "cell_type": "code",
   "execution_count": null,
   "id": "thermal-response",
   "metadata": {},
   "outputs": [],
   "source": []
  },
  {
   "cell_type": "code",
   "execution_count": null,
   "id": "lasting-domain",
   "metadata": {},
   "outputs": [],
   "source": []
  },
  {
   "cell_type": "code",
   "execution_count": null,
   "id": "elder-insurance",
   "metadata": {},
   "outputs": [],
   "source": []
  },
  {
   "cell_type": "code",
   "execution_count": null,
   "id": "continued-praise",
   "metadata": {},
   "outputs": [],
   "source": []
  },
  {
   "cell_type": "code",
   "execution_count": null,
   "id": "laughing-spencer",
   "metadata": {},
   "outputs": [],
   "source": []
  },
  {
   "cell_type": "markdown",
   "id": "fatal-snowboard",
   "metadata": {},
   "source": [
    "5. Given the situation above in question 4, what is the probability that Hero is dealt two suited cards preflop 4 times out of the first ten hands he plays?"
   ]
  },
  {
   "cell_type": "code",
   "execution_count": null,
   "id": "blond-citizenship",
   "metadata": {},
   "outputs": [],
   "source": []
  },
  {
   "cell_type": "code",
   "execution_count": null,
   "id": "varied-career",
   "metadata": {},
   "outputs": [],
   "source": []
  },
  {
   "cell_type": "code",
   "execution_count": null,
   "id": "dated-assistant",
   "metadata": {},
   "outputs": [],
   "source": []
  },
  {
   "cell_type": "code",
   "execution_count": null,
   "id": "deadly-trustee",
   "metadata": {},
   "outputs": [],
   "source": []
  },
  {
   "cell_type": "code",
   "execution_count": null,
   "id": "entitled-ballot",
   "metadata": {},
   "outputs": [],
   "source": []
  },
  {
   "cell_type": "markdown",
   "id": "floating-coaching",
   "metadata": {},
   "source": [
    "6. Scrabble tiles with the letters **HANNAH MONTANA** are placed in a hat. Several of these 13 letters are then drawn at random and laid down in order from left to right.\n",
    "    - If five letters are drawn, what is the probability the word OMAHA is spelled?\n",
    "    - If four letters are drawn, what is the probability the word MOAN is spelled?\n",
    "    - How many unique arrangements are possible if all the letters are drawn?"
   ]
  },
  {
   "cell_type": "code",
   "execution_count": null,
   "id": "included-criminal",
   "metadata": {},
   "outputs": [],
   "source": []
  },
  {
   "cell_type": "code",
   "execution_count": null,
   "id": "alpha-belle",
   "metadata": {},
   "outputs": [],
   "source": []
  },
  {
   "cell_type": "code",
   "execution_count": null,
   "id": "superb-parliament",
   "metadata": {},
   "outputs": [],
   "source": []
  },
  {
   "cell_type": "code",
   "execution_count": null,
   "id": "fitting-alpha",
   "metadata": {},
   "outputs": [],
   "source": []
  },
  {
   "cell_type": "code",
   "execution_count": null,
   "id": "exterior-middle",
   "metadata": {},
   "outputs": [],
   "source": []
  },
  {
   "cell_type": "markdown",
   "id": "conservative-courage",
   "metadata": {},
   "source": [
    "7. A group of at-risk students volunteer to participate in a new study program. To assess if the program is effective, the organizer gives the students a test before the program starts and a similar exam at the end of the program. Here are the scores for each of the students. Test whether the program is helping students increase their exam scores at the .05 level of significance.\n",
    "\n",
    "$$\\begin{array}{ccccccccccccccc}\n",
    "\\textbf{Pre}  & 54 & 55 & 62 & 73 & 56 & 46 & 68 & 70 & 66 & 57 & 58 & 72 & 65 & 74 & 75 \\\\\n",
    "\\textbf{Post} & 50 & 55 & 76 & 84 & 62 & 59 & 65 & 76 & 70 & 54 & 59 & 76 & 60 & 76 & 74 \\\\\n",
    "\\end{array}$$"
   ]
  },
  {
   "cell_type": "code",
   "execution_count": null,
   "id": "ahead-criminal",
   "metadata": {},
   "outputs": [],
   "source": []
  },
  {
   "cell_type": "code",
   "execution_count": null,
   "id": "human-batch",
   "metadata": {},
   "outputs": [],
   "source": []
  },
  {
   "cell_type": "code",
   "execution_count": null,
   "id": "rotary-electron",
   "metadata": {},
   "outputs": [],
   "source": []
  },
  {
   "cell_type": "code",
   "execution_count": null,
   "id": "minute-injection",
   "metadata": {},
   "outputs": [],
   "source": []
  },
  {
   "cell_type": "code",
   "execution_count": null,
   "id": "suspended-inflation",
   "metadata": {},
   "outputs": [],
   "source": []
  },
  {
   "cell_type": "markdown",
   "id": "headed-trouble",
   "metadata": {},
   "source": [
    "8. A moderate electrical shock was delivered to the significant other of 16 women while the woman watched. Brain activity was measured in the region that would be active if she were experiencing pain (higher numbers indicate more “pain”). A psychological test independently measured empathy (higher scores mean more empathy). Do higher empathy levels correlate with higher “pain” levels when the significant other is hurt? Test at the 0.05 level.\n",
    "$$\\begin{array}{lcccccccccccccc}\n",
    "\\textbf{Empathy}  & 38 & 53 & 41 & 55 & 56 & 61 & 62 & 48 & 43 & 47 & 56 & 65 & 19 & 61 \\\\\n",
    "\\textbf{Pain} & -0.12 & 0.40 & 0.01 & 0.40 & 0.02 & 0.42 & 0.11 & 0.51 & 0.15 & 0.75 & 0.26 & 0.57 & 0.21 & 0.72 \\\\\n",
    "\\end{array}$$\n",
    "\n",
    "    - Conduct all needed data verification steps.\n",
    "    - Test for the significance of the correlation at the .01 level. \n",
    "    - Analyze the correlation coefficient $r$."
   ]
  },
  {
   "cell_type": "code",
   "execution_count": null,
   "id": "growing-cache",
   "metadata": {},
   "outputs": [],
   "source": []
  },
  {
   "cell_type": "code",
   "execution_count": null,
   "id": "dangerous-redhead",
   "metadata": {},
   "outputs": [],
   "source": []
  },
  {
   "cell_type": "code",
   "execution_count": null,
   "id": "closed-surgeon",
   "metadata": {},
   "outputs": [],
   "source": []
  },
  {
   "cell_type": "code",
   "execution_count": null,
   "id": "several-movie",
   "metadata": {},
   "outputs": [],
   "source": []
  },
  {
   "cell_type": "code",
   "execution_count": null,
   "id": "lightweight-turkey",
   "metadata": {},
   "outputs": [],
   "source": []
  },
  {
   "cell_type": "markdown",
   "id": "capital-guest",
   "metadata": {},
   "source": [
    "9. A clinical trial is run to compare weight loss programs, and participants are randomly assigned to one of the comparison programs and are counseled on the details of the assigned program. Participants follow the assigned program for 8 weeks. The outcome of interest is weight loss, defined as the difference in weight measured at the start of the study (baseline) and weight measured at the end of the study (8 weeks), measured in pounds. \n",
    "\n",
    "$$\\begin{array}{lccccccc}\n",
    "\\textbf{Low Cal}  & 8 & 9 & 6 & 7 & 3 & 4 & 9 \\\\\n",
    "\\textbf{Low Fat} & 2 & 4 & 3 & 5 & 1 & 2 & 4 \\\\\n",
    "\\textbf{Low Carb} & 3 & 5 & 4 & 2 & 3 & 3 \\\\\n",
    "\\end{array}$$\n",
    "\n",
    "Three popular weight loss programs are considered:\n",
    "    - (1) a low calorie diet,\n",
    "    - (2) a low fat diet, and\n",
    "    - (3) a low carb diet. \n",
    "\n",
    "Positive differences indicate weight losses and are shown by group above. Is there a statistically significant difference in the mean weight loss among the three diets? Test at the 0.05 level. Remember to show your hypotheses, your verification of assumptions about the residuals and your conclusion."
   ]
  },
  {
   "cell_type": "code",
   "execution_count": null,
   "id": "conditional-aspect",
   "metadata": {},
   "outputs": [],
   "source": []
  },
  {
   "cell_type": "code",
   "execution_count": null,
   "id": "understanding-moldova",
   "metadata": {},
   "outputs": [],
   "source": []
  },
  {
   "cell_type": "code",
   "execution_count": null,
   "id": "biblical-lighter",
   "metadata": {},
   "outputs": [],
   "source": []
  },
  {
   "cell_type": "code",
   "execution_count": null,
   "id": "published-surprise",
   "metadata": {},
   "outputs": [],
   "source": []
  },
  {
   "cell_type": "code",
   "execution_count": null,
   "id": "moderate-rehabilitation",
   "metadata": {},
   "outputs": [],
   "source": []
  },
  {
   "cell_type": "markdown",
   "id": "united-pittsburgh",
   "metadata": {},
   "source": [
    "10. Conduct a Tukey HSD *post hoc* test on the results from question 8."
   ]
  },
  {
   "cell_type": "code",
   "execution_count": null,
   "id": "talented-senator",
   "metadata": {},
   "outputs": [],
   "source": []
  },
  {
   "cell_type": "code",
   "execution_count": null,
   "id": "fifteen-persian",
   "metadata": {},
   "outputs": [],
   "source": []
  },
  {
   "cell_type": "code",
   "execution_count": null,
   "id": "julian-causing",
   "metadata": {},
   "outputs": [],
   "source": []
  },
  {
   "cell_type": "code",
   "execution_count": null,
   "id": "northern-fabric",
   "metadata": {},
   "outputs": [],
   "source": []
  },
  {
   "cell_type": "code",
   "execution_count": null,
   "id": "searching-flood",
   "metadata": {},
   "outputs": [],
   "source": []
  },
  {
   "cell_type": "markdown",
   "id": "global-skill",
   "metadata": {},
   "source": [
    "11.  A study compares the “mean length of utterances” (MLUs) from age-matched Down Syndrome children ($n=22$) and typically developing children ($n=20$). The mean MLU for the Down Syndrome (DS) group is $3.1$ with a standard deviation of $0.55$. The mean MLU for the Typically Developing (TD) group is $3.9$ with a standard deviation of $0.65$. Test whether there is a significance difference in MLUs between the DS and TD groups at the $\\alpha = 0.1$ level of significance."
   ]
  },
  {
   "cell_type": "code",
   "execution_count": null,
   "id": "premium-feeling",
   "metadata": {},
   "outputs": [],
   "source": []
  },
  {
   "cell_type": "code",
   "execution_count": null,
   "id": "favorite-video",
   "metadata": {},
   "outputs": [],
   "source": []
  },
  {
   "cell_type": "code",
   "execution_count": null,
   "id": "designed-boring",
   "metadata": {},
   "outputs": [],
   "source": []
  },
  {
   "cell_type": "code",
   "execution_count": null,
   "id": "broken-ivory",
   "metadata": {},
   "outputs": [],
   "source": []
  },
  {
   "cell_type": "code",
   "execution_count": null,
   "id": "rubber-employee",
   "metadata": {},
   "outputs": [],
   "source": []
  }
 ],
 "metadata": {
  "kernelspec": {
   "display_name": "R",
   "language": "R",
   "name": "ir"
  },
  "language_info": {
   "codemirror_mode": "r",
   "file_extension": ".r",
   "mimetype": "text/x-r-source",
   "name": "R",
   "pygments_lexer": "r",
   "version": "3.6.1"
  }
 },
 "nbformat": 4,
 "nbformat_minor": 5
}

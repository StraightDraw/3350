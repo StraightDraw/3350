{
 "cells": [
  {
   "cell_type": "markdown",
   "id": "9094c5ee-b6f9-44c3-a3bc-5c0fbd2cd1e8",
   "metadata": {},
   "source": [
    "# S04a: The $t$-Test\n",
    "\n",
    "Originally, the bell-curve itself was utilized for basic statistical inquiry. The $z$ statistic was found to have a couple of issues:\n",
    "\n",
    "- The $z$ statistic is brittle rather than robust.\n",
    "- The $z$ statistic required larger sample sizes to produce reasonable accuracy. \n",
    "\n",
    "## William Sealy Gossett and the $t$-Test\n",
    "\n",
    "The $t$-test has replaced the $z$-test due to the work of William Sealy Gossett who worked for the Guiness Brewery in Dublin, Ireland. Recognizing the shortfalls of the traditional $z$-test, he created a series of bell-shaped curves that, as sample size increases, coverge the $z$ distribution. This update produced the following improvements:\n",
    "\n",
    "- The $t$ statistic is robust.\n",
    "- The $t$ statistic is accurate even with small sample sizes.\n",
    "\n",
    "In practice, the $z$-test is almost never used in modern statistics.\n",
    "\n",
    "## Assumptions of the $t$-Test\n",
    "\n",
    "Three standard assumptions of the $t$-test keep us using it only when the data are appropriate for it.\n",
    "\n",
    "1. Normality\n",
    "2. Independence\n",
    "3. Homogeneity of the Variances\n",
    "\n",
    "The only one that we check on statistically is the normality assumption which says that we must have evidence the data were drawn from a normal (bell-shaped) distribution.\n",
    "\n",
    "### Data Checks for the $t$-Test\n",
    "\n",
    "To **verify the assumptions**, we will construct both a **density plot** and a **boxplot**. In the *density plot*, we seek evidence of a bell-shape indicating the data were, in fact, drawn from a normal distribution. \n",
    "\n",
    "### Outliers and the $t$-Test\n",
    "\n",
    "For the *boxplot*, we hope to find no outliers. For $n\\geq 40$, the robustness of the $t$ statistic will produce accurate results. For small sample sizes where $n<40$, outliers can result in loss of accuracy to the point the results are spurious."
   ]
  },
  {
   "cell_type": "markdown",
   "id": "d594aa80-7d17-4b06-b8fc-4b5eb986e5f7",
   "metadata": {},
   "source": [
    "## Example 1\n",
    "\n",
    "In the **personality** data frame, we have the column entitled **HSAG** which stands for *aggressive humor*. Aggressive humor is comprised of sarcasm and putdowns and can be quite dark. In prior research, biological men were found to use more aggressive humor than biological women, and young persons were found to use more aggressive than older persons. Conduct the test at the $\\alpha = 0.05$ level."
   ]
  },
  {
   "cell_type": "markdown",
   "id": "d50f37e5-2e84-4679-8560-fc38c236931c",
   "metadata": {},
   "source": [
    "### Research Question\n",
    "\n",
    "For males age 19 or younger, conduct a hypothesis test this group has, on average, higher aggressive humor scores than the overall UNG population which is known to have an average HSAG score of $\\mu=29$.\n",
    "\n",
    "### Hypothesis\n",
    "\n",
    "$$\\begin{align}H_0 : \\mu = 29\\\\H_0 : \\mu > 29\\end{align}$$\n",
    "\n",
    "In words, the null hypothesis is that the average HSAG for young males is 29 while the alternative hypothesis states that the average for them is higher than 29.\n",
    "\n",
    "### Loading the Data and Subsetting the Data Frame\n",
    "\n",
    "After loading the **personality** data frame, we have to subset with 2 criteria: *biological sex* is male plus *age* is less than or equal to 19.\n",
    "\n",
    "The required subset data frame is called **ym** for \"young males,\" and the data frame has 36 rows or individual students who meet these criteria."
   ]
  },
  {
   "cell_type": "code",
   "execution_count": 17,
   "id": "d799568b-1892-4be7-b02d-07cdbd38f6a9",
   "metadata": {},
   "outputs": [],
   "source": [
    "pers <- read.csv('https://faculty.ung.edu/rsinn/data/personality.csv')\n",
    "temp <- subset(pers,Sex == 'M' & Age <= 19)\n",
    "ym <- temp$HSAG"
   ]
  },
  {
   "cell_type": "markdown",
   "id": "5c7a4230-1c11-4e65-91d5-d4a86755a4bb",
   "metadata": {},
   "source": [
    "We will use the <span style = 'color:blue;font-weight:bold'>\\$ method</span> to extract the column **HSAG** which contains the aggressive humor scores.\n",
    "\n",
    "### Data Checks\n",
    "\n",
    "We will compute the descriptive statistics and produce both a density plot and a boxplot. We will use the same techniques and functions we learned in earlier sections. The code for descriptives was found in the [course notes](https://straightdraw.github.io/probstat/S1.html)."
   ]
  },
  {
   "cell_type": "code",
   "execution_count": 21,
   "id": "90e6095a-8a10-40cc-82bc-799480efa4c9",
   "metadata": {},
   "outputs": [
    {
     "name": "stdout",
     "output_type": "stream",
     "text": [
      "The standard descriptives for Young Male Aggressive Humor:\n",
      "   Mean =  32.25 \n",
      "   Standard Deviation =  6.06 \n",
      "   Sample Size =  12 \n",
      "\n",
      "The 5-number summary Young Male Aggressive Humor:"
     ]
    },
    {
     "data": {
      "text/plain": [
       "   Min. 1st Qu.  Median    Mean 3rd Qu.    Max. \n",
       "  19.00   29.00   33.00   32.25   35.50   41.00 "
      ]
     },
     "metadata": {},
     "output_type": "display_data"
    }
   ],
   "source": [
    "cat('The standard descriptives for Young Male Aggressive Humor:\\n   Mean = ', round(mean(ym),2),\n",
    "    '\\n   Standard Deviation = ', round(sd(ym),2),\n",
    "    '\\n   Sample Size = ', length(ym),\n",
    "    '\\n\\nThe 5-number summary Young Male Aggressive Humor:')\n",
    "summary(ym)"
   ]
  },
  {
   "cell_type": "code",
   "execution_count": 22,
   "id": "6037bbf8-e44f-42b1-997c-c20e524a1660",
   "metadata": {},
   "outputs": [],
   "source": [
    "### Data Checks and Graphics"
   ]
  },
  {
   "cell_type": "code",
   "execution_count": 23,
   "id": "710065e9-dad8-4c79-86ca-acb4bb482ddd",
   "metadata": {},
   "outputs": [
    {
     "data": {
      "image/png": "[encoded data removed]",
      "text/plain": [
       "Plot with title \"Boxplot: Aggressive Humor\""
      ]
     },
     "metadata": {},
     "output_type": "display_data"
    }
   ],
   "source": [
    "# Using layout() and matrix() to create grid.\n",
    "layout(matrix(c(1,2), ncol = 2), lcm(9))\n",
    "plot(density(ym), main = 'Density Plot: Aggressive Humor', xlab = 'HSAG Scores')\n",
    "boxplot(ym, main = 'Boxplot: Aggressive Humor', ylab = 'HSAG')"
   ]
  },
  {
   "cell_type": "markdown",
   "id": "9ead3255-65bf-4389-a19c-6fe12d61b1eb",
   "metadata": {},
   "source": [
    "The data check is complete showing that we have approximately bell-shaped data. Our conclusion is that these data were likely drawn from a normal (bell-shaped) distribution, as required. There are no outliers, yet we see a slight skew to the left.\n",
    "\n",
    "<span style = 'color:blue; font-weight:bold'>These data are appropriate for $t$ procedures.</span>\n",
    "\n",
    "### Running the Test\n",
    "\n",
    "Let's conduct the **t.test()** below."
   ]
  },
  {
   "cell_type": "code",
   "execution_count": 24,
   "id": "e2901397-0d3c-438b-9644-5413702862bf",
   "metadata": {},
   "outputs": [
    {
     "data": {
      "text/plain": [
       "\n",
       "\tOne Sample t-test\n",
       "\n",
       "data:  ym\n",
       "t = 1.8571, df = 11, p-value = 0.04512\n",
       "alternative hypothesis: true mean is greater than 29\n",
       "95 percent confidence interval:\n",
       " 29.1072     Inf\n",
       "sample estimates:\n",
       "mean of x \n",
       "    32.25 \n"
      ]
     },
     "metadata": {},
     "output_type": "display_data"
    }
   ],
   "source": [
    "t.test(ym, mu = 29, alternative = 'g')"
   ]
  },
  {
   "cell_type": "markdown",
   "id": "8f8f2ffc-2999-4e45-b578-049602fe072d",
   "metadata": {},
   "source": [
    "### Reporting Out\n",
    "\n",
    "Because $p = 0.04512 < 0.05 = \\alpha$, we reject the null. We thus have evidence that the average HSAG scores for young males is greater than the overall average for UNG students in Dahlonega."
   ]
  },
  {
   "cell_type": "code",
   "execution_count": null,
   "id": "5e4f639a-8082-467c-b9f6-d9e9615888c2",
   "metadata": {},
   "outputs": [],
   "source": []
  },
  {
   "cell_type": "code",
   "execution_count": null,
   "id": "002e80e3-333a-4fd2-8acc-aea8b4b90b7e",
   "metadata": {},
   "outputs": [],
   "source": []
  },
  {
   "cell_type": "code",
   "execution_count": null,
   "id": "f57725dd-949e-49d0-b9ab-bc2119168774",
   "metadata": {},
   "outputs": [],
   "source": []
  },
  {
   "cell_type": "code",
   "execution_count": null,
   "id": "bc4b076e-58ca-41a5-9883-d4f92ea3141f",
   "metadata": {},
   "outputs": [],
   "source": []
  },
  {
   "cell_type": "code",
   "execution_count": null,
   "id": "b71ee648-1b4d-47e8-9fba-1bc628a70aed",
   "metadata": {},
   "outputs": [],
   "source": []
  },
  {
   "cell_type": "markdown",
   "id": "9a287795-3e28-472f-a71e-94bcb7dc0aa8",
   "metadata": {},
   "source": [
    "## Example 2: Playfulness\n",
    "\n",
    "The variable **Adult Playfulness** in the *personality* data frame tracks the childlike qualities of a person who may enjoy splashing through puddles, singing or dancing at odd moments, and dressing up or dressing down just for the fun of it. The Playfulness scores at UNG Dahlonega have the $N(127,18)$ distribution. Test at the $\\alpha=0.5$ level whether biological females aged 20 and younger have a higher average Playfulness score than their counterparts.\n",
    "\n",
    "The subsetting necessary to create the \"young females\" **yf** subset from the personality data frame is given below."
   ]
  },
  {
   "cell_type": "code",
   "execution_count": 1,
   "id": "5436b8c1-4932-4ede-a64b-6c0663369c78",
   "metadata": {},
   "outputs": [],
   "source": [
    "pers <- read.csv('https://faculty.ung.edu/rsinn/data/personality.csv')\n",
    "temp <- subset(pers,Sex == 'F' & Age <= 20)\n",
    "yf <- temp$Play"
   ]
  },
  {
   "cell_type": "code",
   "execution_count": null,
   "id": "3446f6fc-e0c4-4a86-9c42-8870662b058f",
   "metadata": {},
   "outputs": [],
   "source": []
  },
  {
   "cell_type": "code",
   "execution_count": null,
   "id": "b406c9d0-7eb9-43f1-9399-c79ed6bc4d3c",
   "metadata": {},
   "outputs": [],
   "source": []
  },
  {
   "cell_type": "code",
   "execution_count": null,
   "id": "b458e366-6e96-4af5-b7c9-c3d0e0616f7f",
   "metadata": {},
   "outputs": [],
   "source": []
  },
  {
   "cell_type": "code",
   "execution_count": null,
   "id": "1b3425d2-33ad-48cf-9683-f2fde7c7b215",
   "metadata": {},
   "outputs": [],
   "source": []
  },
  {
   "cell_type": "code",
   "execution_count": null,
   "id": "d2c5edaa-d6b5-4401-9d7e-6bf822cd59db",
   "metadata": {},
   "outputs": [],
   "source": []
  },
  {
   "cell_type": "markdown",
   "id": "99b83d21-d522-4c59-891f-0cc25f07e201",
   "metadata": {},
   "source": [
    "## Example 3: Skyscrapers\n",
    "\n",
    "The data frame **skyscrapers** lists the tallest buildings in the United States. The heights of these buildings have the $N(136, 50)$ distribution where the units are in meters. Test at the $\\alpha = 0.025$ level whether the average height of Atlanta skyscrapers is taller than the average height for buildings in this data frame."
   ]
  },
  {
   "cell_type": "code",
   "execution_count": 13,
   "id": "76bde993-adbe-479e-ad90-8f7281094858",
   "metadata": {},
   "outputs": [],
   "source": [
    "sky <- read.csv('https://faculty.ung.edu/rsinn/data/skyscrapers_v2.csv')\n",
    "atl_temp <- subset(sky, city == 'Atlanta')\n",
    "atl <- atl_temp$height"
   ]
  },
  {
   "cell_type": "code",
   "execution_count": 16,
   "id": "e899db11-22f3-4405-bb15-bdb59751686c",
   "metadata": {},
   "outputs": [
    {
     "data": {
      "image/png": "[encoded data removed]",
      "text/plain": [
       "Plot with title \"density.default(x = atl)\""
      ]
     },
     "metadata": {},
     "output_type": "display_data"
    },
    {
     "data": {
      "image/png": "[encoded data removed]",
      "text/plain": [
       "plot without title"
      ]
     },
     "metadata": {},
     "output_type": "display_data"
    }
   ],
   "source": [
    "plot(density(atl))\n",
    "\n",
    "boxplot(atl)"
   ]
  },
  {
   "cell_type": "code",
   "execution_count": 18,
   "id": "25822855-7380-4220-ac47-4753557024e5",
   "metadata": {},
   "outputs": [
    {
     "data": {
      "text/html": [
       "<ol class=list-inline>\n",
       "\t<li>700</li>\n",
       "\t<li>375</li>\n",
       "\t<li>884</li>\n",
       "\t<li>710</li>\n",
       "\t<li>625</li>\n",
       "</ol>\n"
      ],
      "text/latex": [
       "\\begin{enumerate*}\n",
       "\\item 700\n",
       "\\item 375\n",
       "\\item 884\n",
       "\\item 710\n",
       "\\item 625\n",
       "\\end{enumerate*}\n"
      ],
      "text/markdown": [
       "1. 700\n",
       "2. 375\n",
       "3. 884\n",
       "4. 710\n",
       "5. 625\n",
       "\n",
       "\n"
      ],
      "text/plain": [
       "[1] 700 375 884 710 625"
      ]
     },
     "metadata": {},
     "output_type": "display_data"
    }
   ],
   "source": []
  },
  {
   "cell_type": "code",
   "execution_count": 19,
   "id": "4144fd9c-f64a-4cec-9e11-c8c57f2beafb",
   "metadata": {},
   "outputs": [
    {
     "data": {
      "text/html": [
       "648.189910979228"
      ],
      "text/latex": [
       "648.189910979228"
      ],
      "text/markdown": [
       "648.189910979228"
      ],
      "text/plain": [
       "[1] 648.1899"
      ]
     },
     "metadata": {},
     "output_type": "display_data"
    },
    {
     "data": {
      "text/html": [
       "415.051401885878"
      ],
      "text/latex": [
       "415.051401885878"
      ],
      "text/markdown": [
       "415.051401885878"
      ],
      "text/plain": [
       "[1] 415.0514"
      ]
     },
     "metadata": {},
     "output_type": "display_data"
    }
   ],
   "source": [
    "mean(ga)\n",
    "\n",
    "sd(ga)"
   ]
  },
  {
   "cell_type": "code",
   "execution_count": 20,
   "id": "862d2588-d03a-4cbf-a1b0-42299caf1611",
   "metadata": {},
   "outputs": [
    {
     "data": {
      "image/png": "[encoded data removed]",
      "text/plain": [
       "Plot with title \"density.default(x = ga)\""
      ]
     },
     "metadata": {},
     "output_type": "display_data"
    },
    {
     "data": {
      "image/png": "[encoded data removed]",
      "text/plain": [
       "plot without title"
      ]
     },
     "metadata": {},
     "output_type": "display_data"
    }
   ],
   "source": [
    "plot(density(ga))\n",
    "\n",
    "boxplot(ga)"
   ]
  },
  {
   "cell_type": "code",
   "execution_count": null,
   "id": "a7d2c75b-66f6-49c3-bcbb-ea80365359af",
   "metadata": {},
   "outputs": [],
   "source": []
  }
 ],
 "metadata": {
  "kernelspec": {
   "display_name": "R",
   "language": "R",
   "name": "ir"
  },
  "language_info": {
   "codemirror_mode": "r",
   "file_extension": ".r",
   "mimetype": "text/x-r-source",
   "name": "R",
   "pygments_lexer": "r",
   "version": "3.6.1"
  }
 },
 "nbformat": 4,
 "nbformat_minor": 5
}

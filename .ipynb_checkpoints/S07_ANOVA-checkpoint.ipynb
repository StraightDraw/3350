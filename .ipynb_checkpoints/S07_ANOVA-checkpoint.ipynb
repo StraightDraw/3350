{
 "cells": [
  {
   "cell_type": "markdown",
   "id": "a191b334-4ed7-4f7c-8b6b-92349ffe92a0",
   "metadata": {},
   "source": [
    "# S07: ANOVA"
   ]
  },
  {
   "cell_type": "markdown",
   "id": "15c464c4-7bf5-4269-ac5f-3d467e5c9732",
   "metadata": {},
   "source": [
    "The $t$-test was a great step forward in both statistics and science bringing a robust test to scientists which would work well even for small sample sizes.\n",
    "\n",
    "The only problem was that the $t$-test could only compare and contrast **2 or fewer samples**. For situations where the grouping variable had 3 or more levels (freshman, sophomore, junior, senior), the $t$-test would not work.\n",
    "<br><br><br>\n",
    "Ron Fisher took up the challenge and created the mathematical extension of the $t$-test for use with more than 2 groups. His statistical test is called **ANOVA** which stands for <span style = 'color:blue;font-weight:bold'>Analysis of Variance</span>."
   ]
  },
  {
   "cell_type": "markdown",
   "id": "3d9d3616-beb1-4235-81c3-26ec792e805a",
   "metadata": {},
   "source": [
    "## Conducting the ANOVA in R}\n",
    "**Example.** Test whether the variable GPA varies based upon year in school (Yr).\n",
    "\n",
    "We proceed through the following steps:\n",
    "- Create the Model\n",
    "   $$\\text{mod = lm(GPA $\\sim$ Yr, data = pers)}$$\n",
    "\n",
    "- Extract the Residuals\n",
    "   $$\\text{res = residuals(mod)}$$\n",
    "\n",
    "- Produce a QQ plot of the Residuals (as we did with linear regression)\n",
    "\n",
    "- If the Data are Appropriate, Run the ANOVA\n",
    "   $$\\text{anova = aov(GPA $\\sim$ Yr, data = pers)}$$\n",
    "\n",
    "- <span style = 'color:blue;font-weight:bold'>Only if we reject the null, conduct a *post hoc* </span><span style = 'color:red;font-weight:bold'>Tukey HSD</span>\n",
    "   $$\\text{TukeyHSD(anova)}$$\n",
    "\n",
    "## Getting Started\n",
    "\n",
    "Let's load some data frames for our examples."
   ]
  },
  {
   "cell_type": "code",
   "execution_count": 4,
   "id": "1627a4d7-9c62-44a4-a314-4bd4384fc787",
   "metadata": {},
   "outputs": [],
   "source": [
    "pers <- read.csv('https://faculty.ung.edu/rsinn/data/personality.csv')\n",
    "city <- read.csv('https://faculty.ung.edu/rsinn/data/worldcity.csv')"
   ]
  },
  {
   "cell_type": "markdown",
   "id": "156d7b9c-db47-4e55-8235-1753e4392eab",
   "metadata": {},
   "source": [
    "## Example 1: Perfectionism\n",
    "\n",
    "Test whether levels of perfectionism vary depending upon whether one prefers to sit in the front, middle, or back of the classroom using the **Perf** and **SitClass** columns of the personality data frame. Test at the $\\alpha = 0.05$ level."
   ]
  },
  {
   "cell_type": "code",
   "execution_count": null,
   "id": "b2716992-8954-4647-9261-d46a6153df70",
   "metadata": {},
   "outputs": [],
   "source": []
  },
  {
   "cell_type": "code",
   "execution_count": null,
   "id": "4e8d19ad-8b0c-4a43-bd2a-e78b6dbd124a",
   "metadata": {},
   "outputs": [],
   "source": []
  },
  {
   "cell_type": "code",
   "execution_count": null,
   "id": "24e8d307-bd39-4c9f-876a-87b24307f165",
   "metadata": {},
   "outputs": [],
   "source": []
  },
  {
   "cell_type": "code",
   "execution_count": null,
   "id": "fd66d636-f0f3-46d7-9b46-320f82188860",
   "metadata": {},
   "outputs": [],
   "source": []
  },
  {
   "cell_type": "code",
   "execution_count": null,
   "id": "6c9dd6d1-69ae-4a4b-90c5-213ed5e8ac38",
   "metadata": {},
   "outputs": [],
   "source": []
  },
  {
   "cell_type": "markdown",
   "id": "264b957b-3a96-4987-8622-cfb1cd31d8e0",
   "metadata": {},
   "source": [
    "## Example 2: Optimism and Humor\n",
    "\n",
    "Test whether <span style = 'color:blue'>optimism scores</span> vary based upon <span style = 'color:blue'>primary humor style</span> at the $\\alpha = 0.05$ level. We will use the **CHS** and **PHS** variables in the personality data frame."
   ]
  },
  {
   "cell_type": "code",
   "execution_count": null,
   "id": "0201824d-28c6-4968-a96f-530b0414fac4",
   "metadata": {},
   "outputs": [],
   "source": []
  },
  {
   "cell_type": "code",
   "execution_count": null,
   "id": "b21cd206-e597-4021-96bf-ca229a8dcb12",
   "metadata": {},
   "outputs": [],
   "source": []
  },
  {
   "cell_type": "code",
   "execution_count": null,
   "id": "48968086-a560-4a10-8899-76abca7c38c8",
   "metadata": {},
   "outputs": [],
   "source": []
  },
  {
   "cell_type": "code",
   "execution_count": null,
   "id": "86571acf-bc69-4cbc-9dc4-82a84f99399c",
   "metadata": {},
   "outputs": [],
   "source": []
  },
  {
   "cell_type": "code",
   "execution_count": null,
   "id": "e95543da-3cc6-4c49-95ac-53b94863e868",
   "metadata": {},
   "outputs": [],
   "source": []
  },
  {
   "cell_type": "markdown",
   "id": "d0aa91cd-3c8d-4186-8f99-a9e8a95afc82",
   "metadata": {},
   "source": [
    "## Example 3: Cities and Population\n",
    "\n",
    "The **city** data frame lists the populations of the largest cities in the world. Test whether there is a difference in population averages between China, India, Brazil and Japan at the $\\alpha = 0.05$ level."
   ]
  },
  {
   "cell_type": "code",
   "execution_count": 17,
   "id": "81dbae56-7105-4a88-b3a7-d01548ec602d",
   "metadata": {},
   "outputs": [
    {
     "data": {
      "text/html": [
       "<table>\n",
       "<thead><tr><th></th><th scope=col>ï..city</th><th scope=col>country</th><th scope=col>population</th></tr></thead>\n",
       "<tbody>\n",
       "\t<tr><th scope=row>1</th><td>Tokyo    </td><td>Japan    </td><td>37977000 </td></tr>\n",
       "\t<tr><th scope=row>3</th><td>Delhi    </td><td>India    </td><td>29617000 </td></tr>\n",
       "\t<tr><th scope=row>4</th><td>Mumbai   </td><td>India    </td><td>23355000 </td></tr>\n",
       "\t<tr><th scope=row>6</th><td>Shanghai </td><td>China    </td><td>22120000 </td></tr>\n",
       "\t<tr><th scope=row>7</th><td>Sao Paulo</td><td>Brazil   </td><td>22046000 </td></tr>\n",
       "\t<tr><th scope=row>10</th><td>Guangzhou</td><td>China    </td><td>20902000 </td></tr>\n",
       "</tbody>\n",
       "</table>\n"
      ],
      "text/latex": [
       "\\begin{tabular}{r|lll}\n",
       "  & ï..city & country & population\\\\\n",
       "\\hline\n",
       "\t1 & Tokyo     & Japan     & 37977000 \\\\\n",
       "\t3 & Delhi     & India     & 29617000 \\\\\n",
       "\t4 & Mumbai    & India     & 23355000 \\\\\n",
       "\t6 & Shanghai  & China     & 22120000 \\\\\n",
       "\t7 & Sao Paulo & Brazil    & 22046000 \\\\\n",
       "\t10 & Guangzhou & China     & 20902000 \\\\\n",
       "\\end{tabular}\n"
      ],
      "text/markdown": [
       "\n",
       "| <!--/--> | ï..city | country | population |\n",
       "|---|---|---|---|\n",
       "| 1 | Tokyo     | Japan     | 37977000  |\n",
       "| 3 | Delhi     | India     | 29617000  |\n",
       "| 4 | Mumbai    | India     | 23355000  |\n",
       "| 6 | Shanghai  | China     | 22120000  |\n",
       "| 7 | Sao Paulo | Brazil    | 22046000  |\n",
       "| 10 | Guangzhou | China     | 20902000  |\n",
       "\n"
      ],
      "text/plain": [
       "   ï..city   country population\n",
       "1  Tokyo     Japan   37977000  \n",
       "3  Delhi     India   29617000  \n",
       "4  Mumbai    India   23355000  \n",
       "6  Shanghai  China   22120000  \n",
       "7  Sao Paulo Brazil  22046000  \n",
       "10 Guangzhou China   20902000  "
      ]
     },
     "metadata": {},
     "output_type": "display_data"
    }
   ],
   "source": [
    "data <- subset(city, country == 'China' | country == 'India' | country == 'Brazil' | country == 'Japan',\n",
    "               select = c(1,4,5))\n",
    "head(data)"
   ]
  },
  {
   "cell_type": "code",
   "execution_count": null,
   "id": "d0e45833-53af-42f2-a3c9-c2dd30367e58",
   "metadata": {},
   "outputs": [],
   "source": []
  },
  {
   "cell_type": "code",
   "execution_count": null,
   "id": "05a09929-33e6-4d86-806b-312f2c7ccc5b",
   "metadata": {},
   "outputs": [],
   "source": []
  },
  {
   "cell_type": "code",
   "execution_count": null,
   "id": "f3196288-9ba2-4ef4-bffd-6d84f93edbd8",
   "metadata": {},
   "outputs": [],
   "source": []
  },
  {
   "cell_type": "code",
   "execution_count": null,
   "id": "2bc79c4e-824c-4f30-8d15-cd4e0e76f66a",
   "metadata": {},
   "outputs": [],
   "source": []
  },
  {
   "cell_type": "code",
   "execution_count": null,
   "id": "5419aab6-3064-4828-aebb-24b118a17d5e",
   "metadata": {},
   "outputs": [],
   "source": []
  },
  {
   "cell_type": "code",
   "execution_count": null,
   "id": "6b7340fe-3c81-4aac-af42-e8aa65fe96af",
   "metadata": {},
   "outputs": [],
   "source": []
  }
 ],
 "metadata": {
  "kernelspec": {
   "display_name": "R",
   "language": "R",
   "name": "ir"
  },
  "language_info": {
   "codemirror_mode": "r",
   "file_extension": ".r",
   "mimetype": "text/x-r-source",
   "name": "R",
   "pygments_lexer": "r",
   "version": "3.6.1"
  }
 },
 "nbformat": 4,
 "nbformat_minor": 5
}

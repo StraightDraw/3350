{
 "cells": [
  {
   "cell_type": "markdown",
   "id": "483c4344-7f13-40e5-83c6-e6386a18b104",
   "metadata": {},
   "source": [
    "# S06: Chi-Square\n",
    "\n"
   ]
  },
  {
   "cell_type": "markdown",
   "id": "6146d8ca-2ac3-4bbd-998b-7e29dddb1463",
   "metadata": {},
   "source": [
    "## Categorical Data Analysis with $\\chi^2$\n",
    "\n",
    "The goals of <span style = 'color:blue; font-weight:bold'>linear regression</span> and the <span style = 'color:blue; font-weight:bold'>$\\chi^2$ test of independence</span> are very similar:\n",
    "\n",
    "- A **linear regression** determines if a relationship exists between 2 <span style = 'color:red; font-weight:bold'>numeric</span> variables.\n",
    "- A **$\\chi^2$ test of independence** determines if a relationship exists between 2 <span style = 'color:red; font-weight:bold'>category</span> variables."
   ]
  },
  {
   "cell_type": "markdown",
   "id": "f498a6ac-a30a-48d1-bfd2-96723468139b",
   "metadata": {},
   "source": [
    "## Data Verification\n",
    "\n",
    "To use $\\chi^2$ Test of Independence, we must have no more than 20\\% low cell counts in the **expected matrix** where \"low cell count\" is defined to be **less than five.**"
   ]
  },
  {
   "cell_type": "markdown",
   "id": "542b95b1-db35-46e1-806c-7b723c5d87fd",
   "metadata": {},
   "source": [
    "## Example 1: Learning Styles\n",
    "\n",
    "A psychologist questions whether preference of learning method differs by gender. A group survey is conducted the results of which are shown below. Test whether a relationship exists between gender and learning method.\n",
    "\n",
    "<table style=\"width:40%\">\n",
    "  <tr>\n",
    "    <th></th>\n",
    "    <th style=\"text-align: center\">Male</th>\n",
    "    <th style=\"text-align: center\">Female</th> \n",
    "  </tr>\n",
    "  <tr>\n",
    "    <td style=\"text-align: center\"><b>Visual</b></td>\n",
    "    <td style=\"text-align: center\">25</td>\n",
    "    <td style=\"text-align: center\">14</td>\n",
    "  </tr>\n",
    "  <tr>\n",
    "    <td style=\"text-align: center\"><b>Auditory</b></td>\n",
    "    <td style=\"text-align: center\">24</td>\n",
    "    <td style=\"text-align: center\">42</td>\n",
    "  </tr>\n",
    "  <tr>\n",
    "    <td style=\"text-align: center\"><b>Kinethetic</b></td>\n",
    "    <td style=\"text-align: center\">41</td>\n",
    "    <td style=\"text-align: center\">34</td>\n",
    "  </tr>\n",
    "</table>"
   ]
  },
  {
   "cell_type": "code",
   "execution_count": 1,
   "id": "e87c0f7d-fd0a-4903-b0ac-2d9677b44501",
   "metadata": {},
   "outputs": [
    {
     "data": {
      "text/html": [
       "<table>\n",
       "<tbody>\n",
       "\t<tr><td>25</td><td>14</td></tr>\n",
       "\t<tr><td>24</td><td>42</td></tr>\n",
       "\t<tr><td>41</td><td>34</td></tr>\n",
       "</tbody>\n",
       "</table>\n"
      ],
      "text/latex": [
       "\\begin{tabular}{ll}\n",
       "\t 25 & 14\\\\\n",
       "\t 24 & 42\\\\\n",
       "\t 41 & 34\\\\\n",
       "\\end{tabular}\n"
      ],
      "text/markdown": [
       "\n",
       "| 25 | 14 |\n",
       "| 24 | 42 |\n",
       "| 41 | 34 |\n",
       "\n"
      ],
      "text/plain": [
       "     [,1] [,2]\n",
       "[1,] 25   14  \n",
       "[2,] 24   42  \n",
       "[3,] 41   34  "
      ]
     },
     "metadata": {},
     "output_type": "display_data"
    }
   ],
   "source": [
    "data <- matrix(c(25, 24, 41, 14, 42, 34), nrow = 3)\n",
    "data"
   ]
  },
  {
   "cell_type": "code",
   "execution_count": 3,
   "id": "3f6ce181-5727-4a78-9f4d-9453ede972d0",
   "metadata": {},
   "outputs": [
    {
     "data": {
      "text/html": [
       "<table>\n",
       "<tbody>\n",
       "\t<tr><td>19.5</td><td>19.5</td></tr>\n",
       "\t<tr><td>33.0</td><td>33.0</td></tr>\n",
       "\t<tr><td>37.5</td><td>37.5</td></tr>\n",
       "</tbody>\n",
       "</table>\n"
      ],
      "text/latex": [
       "\\begin{tabular}{ll}\n",
       "\t 19.5 & 19.5\\\\\n",
       "\t 33.0 & 33.0\\\\\n",
       "\t 37.5 & 37.5\\\\\n",
       "\\end{tabular}\n"
      ],
      "text/markdown": [
       "\n",
       "| 19.5 | 19.5 |\n",
       "| 33.0 | 33.0 |\n",
       "| 37.5 | 37.5 |\n",
       "\n"
      ],
      "text/plain": [
       "     [,1] [,2]\n",
       "[1,] 19.5 19.5\n",
       "[2,] 33.0 33.0\n",
       "[3,] 37.5 37.5"
      ]
     },
     "metadata": {},
     "output_type": "display_data"
    }
   ],
   "source": [
    "result <- chisq.test(data)\n",
    "result$expected"
   ]
  },
  {
   "cell_type": "code",
   "execution_count": null,
   "id": "21b3bfcf-3e63-491f-8eb4-89dcfc92d0b5",
   "metadata": {},
   "outputs": [],
   "source": []
  },
  {
   "cell_type": "code",
   "execution_count": null,
   "id": "0db81229-29f2-436d-8b24-20d9fc0eb13d",
   "metadata": {},
   "outputs": [],
   "source": []
  },
  {
   "cell_type": "code",
   "execution_count": null,
   "id": "efd8a8a0-ed94-48da-bc37-9cf725faefe2",
   "metadata": {},
   "outputs": [],
   "source": []
  },
  {
   "cell_type": "code",
   "execution_count": null,
   "id": "77d71936-c6e9-4ba1-8aef-cfbe11ee472d",
   "metadata": {},
   "outputs": [],
   "source": []
  },
  {
   "cell_type": "code",
   "execution_count": null,
   "id": "52f7bdc9-ac5e-4cbe-850f-dc3017d75a3e",
   "metadata": {},
   "outputs": [],
   "source": []
  },
  {
   "cell_type": "markdown",
   "id": "c9f27a29-73c6-4ff2-886c-d07f0fea8616",
   "metadata": {},
   "source": [
    "## Example 2: Snacks vs. Type of Movie\n",
    "\n",
    "Conduct a test of indepence upon Type of Movie and the proportion of attendees who purchased snacks to take into the movie. Test at the $\\alpha = 0.05$ level.\n",
    "\n",
    "<table style=\"width:35%\">\n",
    "  <tr>\n",
    "    <th></th>\n",
    "    <th style=\"text-align: center\">Snacks</th>\n",
    "    <th style=\"text-align: center\">No Snacks</th> \n",
    "  </tr>\n",
    "  <tr>\n",
    "    <td style=\"text-align: center\"><b>Action</b></td>\n",
    "    <td style=\"text-align: center\">55</td>\n",
    "    <td style=\"text-align: center\">75</td>\n",
    "  </tr>\n",
    "  <tr>\n",
    "    <td style=\"text-align: center\"><b>Comedy</b></td>\n",
    "    <td style=\"text-align: center\">135</td>\n",
    "    <td style=\"text-align: center\">155</td>\n",
    "  </tr>\n",
    "  <tr>\n",
    "    <td style=\"text-align: center\"><b>Family</b></td>\n",
    "    <td style=\"text-align: center\">85</td>\n",
    "    <td style=\"text-align: center\">55</td>\n",
    "  </tr>\n",
    "  <tr>\n",
    "    <td style=\"text-align: center\"><b>Horror</b></td>\n",
    "    <td style=\"text-align: center\">45</td>\n",
    "    <td style=\"text-align: center\">15</td>\n",
    "  </tr>\n",
    "</table>"
   ]
  },
  {
   "cell_type": "code",
   "execution_count": null,
   "id": "33147a26-3f66-4727-8548-7a941eec5672",
   "metadata": {},
   "outputs": [],
   "source": []
  },
  {
   "cell_type": "code",
   "execution_count": null,
   "id": "e84f9f28-98b1-49e8-8b30-b36f63778013",
   "metadata": {},
   "outputs": [],
   "source": []
  },
  {
   "cell_type": "code",
   "execution_count": null,
   "id": "e7376987-e4d8-4a2d-9e00-107407c6e4b3",
   "metadata": {},
   "outputs": [],
   "source": []
  },
  {
   "cell_type": "code",
   "execution_count": null,
   "id": "57e36c6e-d945-4712-aabe-6dbea7c5d38a",
   "metadata": {},
   "outputs": [],
   "source": []
  },
  {
   "cell_type": "code",
   "execution_count": null,
   "id": "8fb41b28-0e27-44be-89c8-f2239b671d19",
   "metadata": {},
   "outputs": [],
   "source": []
  },
  {
   "cell_type": "markdown",
   "id": "c1c0bed3-2fe7-4cf6-a820-4aacf5eff8f7",
   "metadata": {},
   "source": [
    "## Example 3: Accept the Date\n",
    "\n",
    "Using the **AccDate** varible in the **personality** data set, test at the $0.05$ level of significance whether Yes/No responses to the dating question depends upon biological sex."
   ]
  },
  {
   "cell_type": "code",
   "execution_count": null,
   "id": "18526248-28cb-4923-8ea9-b3088e2b2f58",
   "metadata": {},
   "outputs": [],
   "source": []
  },
  {
   "cell_type": "code",
   "execution_count": null,
   "id": "2d360f4b-f1f0-44d1-8975-9d2f29c921da",
   "metadata": {},
   "outputs": [],
   "source": []
  },
  {
   "cell_type": "code",
   "execution_count": null,
   "id": "518f8d51-6d1a-4ea7-8b11-ded7b447b436",
   "metadata": {},
   "outputs": [],
   "source": []
  },
  {
   "cell_type": "code",
   "execution_count": null,
   "id": "d4bfc137-3228-45ca-99b4-36601caa41e7",
   "metadata": {},
   "outputs": [],
   "source": []
  },
  {
   "cell_type": "code",
   "execution_count": null,
   "id": "cf3c7722-fdb3-4dda-975d-55b8ebeebab1",
   "metadata": {},
   "outputs": [],
   "source": []
  }
 ],
 "metadata": {
  "kernelspec": {
   "display_name": "R",
   "language": "R",
   "name": "ir"
  },
  "language_info": {
   "codemirror_mode": "r",
   "file_extension": ".r",
   "mimetype": "text/x-r-source",
   "name": "R",
   "pygments_lexer": "r",
   "version": "3.6.1"
  }
 },
 "nbformat": 4,
 "nbformat_minor": 5
}

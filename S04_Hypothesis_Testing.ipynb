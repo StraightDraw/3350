{
 "cells": [
  {
   "cell_type": "markdown",
   "id": "f1dedf6d-ec09-42bd-ba16-1e6117c905af",
   "metadata": {},
   "source": [
    "# Hypothesis Testing\n",
    "\n",
    "Our story of statistical hypothesis testing begins with Dr. Ron Fisher and Dr. Muriel Bristol who were colleagues at a British research station right after World War I. The story begins with a meeting where Ron offered Muriel a cup tea. The results were surprising and changed the course of scientific research forever. [This Wikipedia article has details.](https://en.wikipedia.org/wiki/Lady_tasting_tea)\n",
    "\n",
    "To calculate the probabilities involved, we need the formula for combinations from our [course notes](https://straightdraw.github.io/probstat/P2a.html#wrapping-up)."
   ]
  },
  {
   "cell_type": "code",
   "execution_count": 40,
   "id": "8e7c8b52-f0d4-48ab-b410-23254747a287",
   "metadata": {
    "editable": true,
    "slideshow": {
     "slide_type": ""
    },
    "tags": [
     "hide-input"
    ]
   },
   "outputs": [],
   "source": [
    "combin <- function(n, k) {\n",
    "    return(factorial(n) / ( factorial(k)*factorial(n-k) )) }"
   ]
  },
  {
   "cell_type": "markdown",
   "id": "05890e66-a108-4f05-a0b5-3f75f029719a",
   "metadata": {},
   "source": [
    "## Binomial Distribution\n",
    "\n",
    "While Ron Fisher used a slightly different approach, we can use the Binomial Distribution with a 50\\% chance of success. For example, the probability of exactly six successes in eight trials for random guessing would be as follows:"
   ]
  },
  {
   "cell_type": "code",
   "execution_count": 42,
   "id": "a1086414-2ab1-4f24-af2e-34df3d94a2e7",
   "metadata": {
    "editable": true,
    "slideshow": {
     "slide_type": ""
    },
    "tags": []
   },
   "outputs": [
    {
     "data": {
      "text/html": [
       "0.109375"
      ],
      "text/latex": [
       "0.109375"
      ],
      "text/markdown": [
       "0.109375"
      ],
      "text/plain": [
       "[1] 0.109375"
      ]
     },
     "metadata": {},
     "output_type": "display_data"
    }
   ],
   "source": [
    "x = 6    # Number of successes out of 8 trials\n",
    "bin <- combin(8,x)*(1/2)^x*(1/2)^(8-x)     # Binomial distribution evaluation\n",
    "bin"
   ]
  },
  {
   "cell_type": "markdown",
   "id": "f573d287-04fa-49c1-9eb2-a23ff0889f7f",
   "metadata": {},
   "source": [
    "## Empirical Probabilities\n",
    "\n",
    "We can use the **rflip()** function in R to simulate flipping a fair coin 8 eight times which was Ron Fisher's null hypothesis:\n",
    "\n",
    "- $H_0 : \\pi = \\frac{1}{2}$\n",
    "- $H_a : \\pi > \\frac{1}{2}$\n",
    "\n",
    "The formula for the **rflip()** function is pasted in below."
   ]
  },
  {
   "cell_type": "code",
   "execution_count": 43,
   "id": "6c8ccf9b-10b9-4600-a5ee-4993f5c23a43",
   "metadata": {},
   "outputs": [],
   "source": [
    "rflip <- function(n=1, prob=.5, quiet=FALSE, verbose = !quiet, summarize = FALSE, \n",
    "                  summarise = summarize) {\n",
    "\tif ( ( prob > 1 && is.integer(prob) ) ) {  \n",
    "\t\t# swap n and prob\n",
    "\t\ttemp <- prob\n",
    "\t\tprob <- n\n",
    "\t\tn <- temp\n",
    "\t}\n",
    "\tif (summarise) {\n",
    "\t  heads <- rbinom(1, n, prob)\n",
    "\t  return(data.frame(n = n, heads = heads, tails = n - heads, prob = prob))\n",
    "\t} else {\n",
    "\t  r <- rbinom(n,1,prob)\n",
    "\t  result <- c('T','H')[ 1 + r ]\n",
    "\t  heads <- sum(r)\n",
    "\t  attr(heads,\"n\") <- n\n",
    "\t  attr(heads,\"prob\") <- prob \n",
    "\t  attr(heads,\"sequence\") <- result\n",
    "\t  attr(heads,\"verbose\") <- verbose\n",
    "\t  class(heads) <- 'cointoss'\n",
    "\t  return(heads)\n",
    "\t}\n",
    "}"
   ]
  },
  {
   "cell_type": "markdown",
   "id": "0844fa07-f55e-483f-8c42-d799f587d0ba",
   "metadata": {},
   "source": [
    "## Testing\n",
    "\n",
    "We will test the machinery to make sure we have everything working properly:"
   ]
  },
  {
   "cell_type": "code",
   "execution_count": 44,
   "id": "61a97e69-f36a-4a20-aecf-74105f42ca65",
   "metadata": {},
   "outputs": [
    {
     "data": {
      "text/html": [
       "<table>\n",
       "<thead><tr><th scope=col>n</th><th scope=col>heads</th><th scope=col>tails</th><th scope=col>prob</th></tr></thead>\n",
       "<tbody>\n",
       "\t<tr><td>8  </td><td>2  </td><td>6  </td><td>0.5</td></tr>\n",
       "</tbody>\n",
       "</table>\n"
      ],
      "text/latex": [
       "\\begin{tabular}{r|llll}\n",
       " n & heads & tails & prob\\\\\n",
       "\\hline\n",
       "\t 8   & 2   & 6   & 0.5\\\\\n",
       "\\end{tabular}\n"
      ],
      "text/markdown": [
       "\n",
       "| n | heads | tails | prob |\n",
       "|---|---|---|---|\n",
       "| 8   | 2   | 6   | 0.5 |\n",
       "\n"
      ],
      "text/plain": [
       "  n heads tails prob\n",
       "1 8 2     6     0.5 "
      ]
     },
     "metadata": {},
     "output_type": "display_data"
    },
    {
     "data": {
      "text/html": [
       "2"
      ],
      "text/latex": [
       "2"
      ],
      "text/markdown": [
       "2"
      ],
      "text/plain": [
       "[1] 2"
      ]
     },
     "metadata": {},
     "output_type": "display_data"
    }
   ],
   "source": [
    "successes <- rflip(8, prob = 1/2, summarize = TRUE)\n",
    "successes\n",
    "successes[1,2]"
   ]
  },
  {
   "cell_type": "markdown",
   "id": "fa325b07-4522-4d98-b6f1-6158a646a027",
   "metadata": {},
   "source": [
    "## Loop\n",
    "\n",
    "I have copied the **for loop** from section 2 notebooks and tweaked the code for our example."
   ]
  },
  {
   "cell_type": "code",
   "execution_count": 45,
   "id": "132196d5-5fcf-45a6-9c27-2f02d7e5b910",
   "metadata": {},
   "outputs": [
    {
     "name": "stdout",
     "output_type": "stream",
     "text": [
      "Times Number of Successes was Equal to 7 :  5 \n",
      "  which gives p =  0.005"
     ]
    },
    {
     "data": {
      "image/png": "[encoded data removed]",
      "text/plain": [
       "Plot with title \"Histogram: Total Successes in 8 Trials\""
      ]
     },
     "metadata": {},
     "output_type": "display_data"
    }
   ],
   "source": [
    "total_successes <- c()     #Empty vector to store number of successes in each trial\n",
    "\n",
    "for (count in 1:1000){\n",
    "    successes <- rflip(8, prob = 1/2, summarize = TRUE)\n",
    "    total_successes[count] <- successes[1,2]\n",
    "}\n",
    "\n",
    "upper <- quantile(total_successes, prob = 0.95)\n",
    "lower <- quantile(total_successes, prob = 0.05)\n",
    "cat('Times Number of Successes was Equal to 7 : ', sum(total_successes==8), '\\n  which gives p = ',sum(total_successes==8)/1000)\n",
    "hist(total_successes, main = 'Histogram: Total Successes in 8 Trials', xlab = 'Successes')\n",
    "abline( v = lower, col=\"blue\")\n",
    "abline(v = upper, col=\"blue\")"
   ]
  },
  {
   "cell_type": "markdown",
   "id": "06e5df76-d133-46a5-8bcb-9448e547a7db",
   "metadata": {},
   "source": [
    "## Task 1\n",
    "\n",
    "Let's simulate the situation several times and verify the theoretical probabilities above."
   ]
  },
  {
   "cell_type": "code",
   "execution_count": null,
   "id": "3727a90c-7d8d-4c78-90a0-390096c489ea",
   "metadata": {},
   "outputs": [],
   "source": []
  },
  {
   "cell_type": "code",
   "execution_count": null,
   "id": "d4abb89f-2b36-42a2-bd46-4149b48712d0",
   "metadata": {},
   "outputs": [],
   "source": []
  },
  {
   "cell_type": "code",
   "execution_count": null,
   "id": "856efeed-85e0-482d-9c2c-55cb376e799b",
   "metadata": {},
   "outputs": [],
   "source": []
  },
  {
   "cell_type": "code",
   "execution_count": null,
   "id": "30e1e52c-9197-4a0c-8f8e-730e68710e80",
   "metadata": {},
   "outputs": [],
   "source": []
  },
  {
   "cell_type": "code",
   "execution_count": null,
   "id": "f194b20d-d3af-4112-a745-09bf48821d52",
   "metadata": {},
   "outputs": [],
   "source": []
  },
  {
   "cell_type": "markdown",
   "id": "7469c713-a8fc-4094-8810-752464fb5679",
   "metadata": {},
   "source": [
    "## Task 2\n",
    "\n",
    "The hypothesis for the cross-country example follows:\n",
    "\n",
    "$$\\begin{align*}H_0 : \\mu &= 75\\\\H_a : \\mu &< 75\\end{align*}$$\n",
    "\n",
    "The data for the cross-country team's resting heart rates is given below."
   ]
  },
  {
   "cell_type": "code",
   "execution_count": null,
   "id": "c4b416e8-b39e-46fc-bf48-1d41c9a3b728",
   "metadata": {},
   "outputs": [],
   "source": [
    "data <- c(82, 74, 67, 79, 71, 75, 59, 64, 60, 79, 65)"
   ]
  },
  {
   "cell_type": "code",
   "execution_count": null,
   "id": "2058e033-300e-495a-b04b-c91d81f6321c",
   "metadata": {},
   "outputs": [],
   "source": []
  },
  {
   "cell_type": "code",
   "execution_count": null,
   "id": "2d6cc0d8-a1ef-4efa-b373-1cdbc774b274",
   "metadata": {},
   "outputs": [],
   "source": []
  },
  {
   "cell_type": "code",
   "execution_count": null,
   "id": "7e50fa22-9462-4b36-bcaf-e2e539577669",
   "metadata": {},
   "outputs": [],
   "source": []
  },
  {
   "cell_type": "code",
   "execution_count": null,
   "id": "8ccab6cb-9b93-4424-873f-f3342f979aa2",
   "metadata": {},
   "outputs": [],
   "source": []
  },
  {
   "cell_type": "code",
   "execution_count": null,
   "id": "1bf0cc6f-e8a3-4244-9bf7-322938614acd",
   "metadata": {},
   "outputs": [],
   "source": []
  }
 ],
 "metadata": {
  "kernelspec": {
   "display_name": "R",
   "language": "R",
   "name": "ir"
  },
  "language_info": {
   "codemirror_mode": "r",
   "file_extension": ".r",
   "mimetype": "text/x-r-source",
   "name": "R",
   "pygments_lexer": "r",
   "version": "3.6.1"
  }
 },
 "nbformat": 4,
 "nbformat_minor": 5
}

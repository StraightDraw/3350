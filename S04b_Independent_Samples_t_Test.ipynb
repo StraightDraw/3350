{
 "cells": [
  {
   "cell_type": "markdown",
   "id": "62f983a4-0feb-4922-8b81-3895cc7e5f63",
   "metadata": {},
   "source": [
    "# S04b_Independent_Samples_t_Test\n",
    "\n",
    "We have a slightly different formula to calculate the $t$ statistic for the two sample case, yet the process is remarkedly similar.\n",
    "\n",
    "## Uses of $t$-Tests\n",
    "\n",
    "1. We use the **$t$-Test** to compare a subgroup mean to an overall population mean.\n",
    "2. We use the **Independent Samples $t$-Test** to compare the means from two subgroups directly to one another.\n",
    "\n",
    "We have a version of the $t$-test we use for **pretest vs. posttest** research desgins, and we will cover that next."
   ]
  },
  {
   "cell_type": "markdown",
   "id": "8a52e42a-78da-4a8d-be2f-e04f31ba6a89",
   "metadata": {},
   "source": [
    "## Data Checks for Independent Samples $t$-Tests\n",
    "\n",
    "We conduct the same **data checks** as with the $t$-Test, but we do so for <span style = 'color:blue;font-weight:bold'>both samples</span>.\n",
    "\n",
    "- Box plots -- no outliers unless $n\\geq 40$\n",
    "- Density plots -- both approximately normal.\n",
    "\n",
    "For sample size here, we use the overall sample size $n=n_1+n_2$.<br><br>\n",
    "\n",
    "For **homogeneity of the variances** (e.g. equal standard deviations), we require instead that the ratio of smallest to largest samples is no more than $2:1$. Given this additional requirement, a difference in standard deviations will not seriously erode the accuracy of the test."
   ]
  },
  {
   "cell_type": "markdown",
   "id": "1226a362-bcd2-4346-aab0-c00e36e3a2b7",
   "metadata": {},
   "source": [
    "## Example 1: Narcissism and Biological Sex\n",
    "\n",
    "**Research Question.** Test for a difference in narcissism levels between biological males and biological females at the $\\alpha = 0.01$ level of significance.\n",
    "\n",
    "The data frame is loaded and subsetting is conducted below to create the two samples:\n",
    "\n",
    "- f_narc\n",
    "- m_narc"
   ]
  },
  {
   "cell_type": "code",
   "execution_count": 39,
   "id": "6f3334a0-4577-406c-83a0-1861ee9246b9",
   "metadata": {},
   "outputs": [],
   "source": [
    "pers <- read.csv('https://faculty.ung.edu/rsinn/data/personality.csv')\n",
    "m_narc <- subset(pers, Sex == 'M')$Narc\n",
    "f_narc <- subset(pers, Sex == 'F')$Narc"
   ]
  },
  {
   "cell_type": "code",
   "execution_count": null,
   "id": "8f1fedff-577e-4624-af29-4fe2155215bb",
   "metadata": {},
   "outputs": [],
   "source": []
  },
  {
   "cell_type": "code",
   "execution_count": null,
   "id": "92dde1f2-94dd-4506-838d-2af2f6420661",
   "metadata": {},
   "outputs": [],
   "source": []
  },
  {
   "cell_type": "code",
   "execution_count": null,
   "id": "8c5dd2b5-dc75-4dd6-a3d2-f944336fa4ef",
   "metadata": {},
   "outputs": [],
   "source": []
  },
  {
   "cell_type": "code",
   "execution_count": null,
   "id": "0d6aeaf3-4c7c-479f-be19-543577cc894b",
   "metadata": {},
   "outputs": [],
   "source": []
  },
  {
   "cell_type": "code",
   "execution_count": null,
   "id": "f82fdf00-7780-40da-baa0-b21cb4e5b858",
   "metadata": {},
   "outputs": [],
   "source": []
  },
  {
   "cell_type": "markdown",
   "id": "655fa174-8f5f-45e9-92ac-cd332485c22a",
   "metadata": {},
   "source": [
    "##### Example 2: Birth Weights of Babies\n",
    "\n",
    "Test at the 0.025 level whether babies born to moms who smoke during pregnancy weigh less, on average, than babies born to non-smoking moms."
   ]
  },
  {
   "cell_type": "code",
   "execution_count": 40,
   "id": "b92dbd5f-86c8-472b-b3b3-936ab2eeb25f",
   "metadata": {},
   "outputs": [],
   "source": [
    "births <- read.csv('https://faculty.ung.edu/rsinn/data/baby.csv')\n",
    "smoke <- subset(births, Maternal.Smoker == 'True')$Birth.Weight\n",
    "non <- subset(births, Maternal.Smoker == 'False')$Birth.Weight"
   ]
  },
  {
   "cell_type": "code",
   "execution_count": null,
   "id": "c71b3d57-c163-48c6-afe7-9747f4568c1f",
   "metadata": {},
   "outputs": [],
   "source": []
  },
  {
   "cell_type": "code",
   "execution_count": null,
   "id": "6e96a543-e5ea-4824-aa3d-4b602dd2f8ac",
   "metadata": {},
   "outputs": [],
   "source": []
  },
  {
   "cell_type": "code",
   "execution_count": null,
   "id": "45add471-21ee-4a86-81c0-97f7089ae787",
   "metadata": {},
   "outputs": [],
   "source": []
  },
  {
   "cell_type": "code",
   "execution_count": null,
   "id": "366bd8f3-37bc-4840-b41f-c2213ba6d241",
   "metadata": {},
   "outputs": [],
   "source": []
  },
  {
   "cell_type": "code",
   "execution_count": null,
   "id": "4c7d9b8b-8ad1-4a16-99d7-24ff367c8638",
   "metadata": {},
   "outputs": [],
   "source": []
  },
  {
   "cell_type": "markdown",
   "id": "0c2c95b9-edc7-4dc5-8627-4288b3b7c964",
   "metadata": {},
   "source": [
    "## Example 3: Flight Delays\n",
    "\n",
    "In the **united** data frame, test at $\\alpha = 0.05$ level whether the flight delays when the destination is Atlanta (ATL) are shorter than the flight delays when the destination is Dallas Fort Worth (DFW)."
   ]
  },
  {
   "cell_type": "code",
   "execution_count": null,
   "id": "1a275e30-3cb0-4ec7-b0dd-ccba8ff2fd15",
   "metadata": {},
   "outputs": [],
   "source": []
  },
  {
   "cell_type": "code",
   "execution_count": 41,
   "id": "64f6b986-b67a-4ff3-9621-6ad14bee6c43",
   "metadata": {},
   "outputs": [],
   "source": [
    "united <- read.csv('https://faculty.ung.edu/rsinn/data/united.csv')\n",
    "atl <- subset(united, Destination == 'ATL')$Delay\n",
    "dfw <- subset(united, Destination == 'DFW')$Delay"
   ]
  },
  {
   "cell_type": "code",
   "execution_count": null,
   "id": "1baf5534-11ff-486c-b26f-3d07d6d88c43",
   "metadata": {},
   "outputs": [],
   "source": []
  },
  {
   "cell_type": "code",
   "execution_count": null,
   "id": "62e97801-5a06-4c23-9259-3d18a7f893d9",
   "metadata": {},
   "outputs": [],
   "source": []
  },
  {
   "cell_type": "code",
   "execution_count": null,
   "id": "d50e4158-5057-4e7a-89bc-99c3ae3f7195",
   "metadata": {},
   "outputs": [],
   "source": []
  },
  {
   "cell_type": "code",
   "execution_count": null,
   "id": "90333e42-bbea-4f22-8bd1-ac13e36066e2",
   "metadata": {},
   "outputs": [],
   "source": []
  },
  {
   "cell_type": "code",
   "execution_count": null,
   "id": "afb9df27-b210-4b56-83f2-c553b42d1cbd",
   "metadata": {},
   "outputs": [],
   "source": []
  }
 ],
 "metadata": {
  "kernelspec": {
   "display_name": "R",
   "language": "R",
   "name": "ir"
  },
  "language_info": {
   "codemirror_mode": "r",
   "file_extension": ".r",
   "mimetype": "text/x-r-source",
   "name": "R",
   "pygments_lexer": "r",
   "version": "3.6.1"
  }
 },
 "nbformat": 4,
 "nbformat_minor": 5
}
